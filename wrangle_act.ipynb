{
 "cells": [
  {
   "cell_type": "code",
   "execution_count": 835,
   "metadata": {},
   "outputs": [],
   "source": [
    "import requests\n",
    "import os\n",
    "import pandas as pd\n",
    "import json as json\n",
    "import tweepy\n",
    "import functools\n",
    "import numpy as np\n",
    "import matplotlib.pyplot as plt\n",
    "import seaborn as sns\n",
    "%matplotlib inline\n",
    "from tweepy import OAuthHandler\n",
    "from timeit import default_timer as timer"
   ]
  },
  {
   "cell_type": "markdown",
   "metadata": {},
   "source": [
    "### Gather"
   ]
  },
  {
   "cell_type": "markdown",
   "metadata": {},
   "source": [
    "We initially need to gather three dataframes: the WeRateDogs Twitter archive (file on hand); a set of tweet image predictions of the breed of dog shown in tweets (available on a URL); and a df containing each tweet's retweet count and favorite (\"like\") count gathered from the Twitter API and converted from JSON."
   ]
  },
  {
   "cell_type": "code",
   "execution_count": 836,
   "metadata": {},
   "outputs": [],
   "source": [
    "# This programatically obtains the image predictions and reads in the archive.\n",
    "r = requests.get('https://d17h27t6h515a5.cloudfront.net/topher/2017/August/599fd2ad_image-predictions/image-predictions.tsv')\n",
    "open('./image-predictions.tsv', 'wb').write(r.content)\n",
    "images_df = pd.read_csv('./image-predictions.tsv', sep='\\t')\n",
    "archive_df = pd.read_csv('./twitter-archive-enhanced.csv')"
   ]
  },
  {
   "cell_type": "markdown",
   "metadata": {},
   "source": [
    "I have used the code available on the Project page for this; I filled out the developer request on Twitter's website \n",
    "but have not heard back after almost a week. I'm displaying this code in a markdown cell as it does not need to really run.\n",
    "\n",
    "``` python\n",
    "# Query Twitter API for each tweet in the Twitter archive and save JSON in a text file\n",
    "# These are hidden to comply with Twitter's API terms and conditions\n",
    "consumer_key = 'HIDDEN'\n",
    "consumer_secret = 'HIDDEN'\n",
    "access_token = 'HIDDEN'\n",
    "access_secret = 'HIDDEN'\n",
    "\n",
    "auth = OAuthHandler(consumer_key, consumer_secret)\n",
    "auth.set_access_token(access_token, access_secret)\n",
    "\n",
    "api = tweepy.API(auth, wait_on_rate_limit=True)\n",
    "\n",
    "tweet_ids = df_archive.tweet_id.values\n",
    "len(tweet_ids)\n",
    "\n",
    "# Query Twitter's API for JSON data for each tweet ID in the Twitter archive\n",
    "count = 0\n",
    "fails_dict = {}\n",
    "start = timer()\n",
    "# Save each tweet's returned JSON as a new line in a .txt file\n",
    "with open('tweet_json.txt', 'w') as outfile:\n",
    "    # This loop will likely take 20-30 minutes to run because of Twitter's rate limit\n",
    "    for tweet_id in tweet_ids:\n",
    "        count += 1\n",
    "        print(str(count) + \": \" + str(tweet_id))\n",
    "        try:\n",
    "            tweet = api.get_status(tweet_id, tweet_mode='extended')\n",
    "            print(\"Success\")\n",
    "            json.dump(tweet._json, outfile)\n",
    "            outfile.write('\\n')\n",
    "        except tweepy.TweepError as e:\n",
    "            print(\"Fail\")\n",
    "            fails_dict[tweet_id] = e\n",
    "            pass\n",
    "end = timer()\n",
    "print(end - start)\n",
    "print(fails_dict)\n",
    "```"
   ]
  },
  {
   "cell_type": "code",
   "execution_count": 837,
   "metadata": {},
   "outputs": [],
   "source": [
    "# Then reads the JSON.txt file containing the information queried from the Twitter API line by line to extract\n",
    "# tweet_id, favorites, retweet count and timestamp. This code is based on an answer in Udacity Knowledge.\n",
    "\n",
    "selected_attr = []\n",
    "\n",
    "with open('tweet_json.txt') as json_file:\n",
    "    for line in json_file:\n",
    "        json_data = json.loads(line) \n",
    "        selected_attr.append({'tweet_id':json_data['id'],\n",
    "                             'favorites': json_data['favorite_count'],\n",
    "                             'retweets': json_data['retweet_count'],\n",
    "                             'timestamp': json_data['created_at']})\n",
    "\n",
    "# Instaniates the third dataframe, the four attributes extracted from the JSON data\n",
    "attr_df = pd.DataFrame(selected_attr, columns=['tweet_id', 'favorites', 'retweets', 'timestamp'])"
   ]
  },
  {
   "cell_type": "code",
   "execution_count": 838,
   "metadata": {},
   "outputs": [],
   "source": [
    "# Saves it to csv\n",
    "attr_df.to_csv('attributes.csv')"
   ]
  },
  {
   "cell_type": "code",
   "execution_count": 839,
   "metadata": {
    "scrolled": true
   },
   "outputs": [
    {
     "data": {
      "text/html": [
       "<div>\n",
       "<style scoped>\n",
       "    .dataframe tbody tr th:only-of-type {\n",
       "        vertical-align: middle;\n",
       "    }\n",
       "\n",
       "    .dataframe tbody tr th {\n",
       "        vertical-align: top;\n",
       "    }\n",
       "\n",
       "    .dataframe thead th {\n",
       "        text-align: right;\n",
       "    }\n",
       "</style>\n",
       "<table border=\"1\" class=\"dataframe\">\n",
       "  <thead>\n",
       "    <tr style=\"text-align: right;\">\n",
       "      <th></th>\n",
       "      <th>tweet_id</th>\n",
       "      <th>favorites</th>\n",
       "      <th>retweets</th>\n",
       "      <th>timestamp</th>\n",
       "    </tr>\n",
       "  </thead>\n",
       "  <tbody>\n",
       "    <tr>\n",
       "      <th>0</th>\n",
       "      <td>892420643555336193</td>\n",
       "      <td>39467</td>\n",
       "      <td>8853</td>\n",
       "      <td>Tue Aug 01 16:23:56 +0000 2017</td>\n",
       "    </tr>\n",
       "    <tr>\n",
       "      <th>1</th>\n",
       "      <td>892177421306343426</td>\n",
       "      <td>33819</td>\n",
       "      <td>6514</td>\n",
       "      <td>Tue Aug 01 00:17:27 +0000 2017</td>\n",
       "    </tr>\n",
       "    <tr>\n",
       "      <th>2</th>\n",
       "      <td>891815181378084864</td>\n",
       "      <td>25461</td>\n",
       "      <td>4328</td>\n",
       "      <td>Mon Jul 31 00:18:03 +0000 2017</td>\n",
       "    </tr>\n",
       "    <tr>\n",
       "      <th>3</th>\n",
       "      <td>891689557279858688</td>\n",
       "      <td>42908</td>\n",
       "      <td>8964</td>\n",
       "      <td>Sun Jul 30 15:58:51 +0000 2017</td>\n",
       "    </tr>\n",
       "    <tr>\n",
       "      <th>4</th>\n",
       "      <td>891327558926688256</td>\n",
       "      <td>41048</td>\n",
       "      <td>9774</td>\n",
       "      <td>Sat Jul 29 16:00:24 +0000 2017</td>\n",
       "    </tr>\n",
       "  </tbody>\n",
       "</table>\n",
       "</div>"
      ],
      "text/plain": [
       "             tweet_id  favorites  retweets                       timestamp\n",
       "0  892420643555336193      39467      8853  Tue Aug 01 16:23:56 +0000 2017\n",
       "1  892177421306343426      33819      6514  Tue Aug 01 00:17:27 +0000 2017\n",
       "2  891815181378084864      25461      4328  Mon Jul 31 00:18:03 +0000 2017\n",
       "3  891689557279858688      42908      8964  Sun Jul 30 15:58:51 +0000 2017\n",
       "4  891327558926688256      41048      9774  Sat Jul 29 16:00:24 +0000 2017"
      ]
     },
     "execution_count": 839,
     "metadata": {},
     "output_type": "execute_result"
    }
   ],
   "source": [
    "# Check that it looks alright\n",
    "attr_df.head()"
   ]
  },
  {
   "cell_type": "markdown",
   "metadata": {},
   "source": [
    "### Assess\n"
   ]
  },
  {
   "cell_type": "code",
   "execution_count": 840,
   "metadata": {
    "scrolled": true
   },
   "outputs": [
    {
     "data": {
      "text/html": [
       "<div>\n",
       "<style scoped>\n",
       "    .dataframe tbody tr th:only-of-type {\n",
       "        vertical-align: middle;\n",
       "    }\n",
       "\n",
       "    .dataframe tbody tr th {\n",
       "        vertical-align: top;\n",
       "    }\n",
       "\n",
       "    .dataframe thead th {\n",
       "        text-align: right;\n",
       "    }\n",
       "</style>\n",
       "<table border=\"1\" class=\"dataframe\">\n",
       "  <thead>\n",
       "    <tr style=\"text-align: right;\">\n",
       "      <th></th>\n",
       "      <th>tweet_id</th>\n",
       "      <th>jpg_url</th>\n",
       "      <th>img_num</th>\n",
       "      <th>p1</th>\n",
       "      <th>p1_conf</th>\n",
       "      <th>p1_dog</th>\n",
       "      <th>p2</th>\n",
       "      <th>p2_conf</th>\n",
       "      <th>p2_dog</th>\n",
       "      <th>p3</th>\n",
       "      <th>p3_conf</th>\n",
       "      <th>p3_dog</th>\n",
       "    </tr>\n",
       "  </thead>\n",
       "  <tbody>\n",
       "    <tr>\n",
       "      <th>0</th>\n",
       "      <td>666020888022790149</td>\n",
       "      <td>https://pbs.twimg.com/media/CT4udn0WwAA0aMy.jpg</td>\n",
       "      <td>1</td>\n",
       "      <td>Welsh_springer_spaniel</td>\n",
       "      <td>0.465074</td>\n",
       "      <td>True</td>\n",
       "      <td>collie</td>\n",
       "      <td>0.156665</td>\n",
       "      <td>True</td>\n",
       "      <td>Shetland_sheepdog</td>\n",
       "      <td>0.061428</td>\n",
       "      <td>True</td>\n",
       "    </tr>\n",
       "    <tr>\n",
       "      <th>1</th>\n",
       "      <td>666029285002620928</td>\n",
       "      <td>https://pbs.twimg.com/media/CT42GRgUYAA5iDo.jpg</td>\n",
       "      <td>1</td>\n",
       "      <td>redbone</td>\n",
       "      <td>0.506826</td>\n",
       "      <td>True</td>\n",
       "      <td>miniature_pinscher</td>\n",
       "      <td>0.074192</td>\n",
       "      <td>True</td>\n",
       "      <td>Rhodesian_ridgeback</td>\n",
       "      <td>0.072010</td>\n",
       "      <td>True</td>\n",
       "    </tr>\n",
       "    <tr>\n",
       "      <th>2</th>\n",
       "      <td>666033412701032449</td>\n",
       "      <td>https://pbs.twimg.com/media/CT4521TWwAEvMyu.jpg</td>\n",
       "      <td>1</td>\n",
       "      <td>German_shepherd</td>\n",
       "      <td>0.596461</td>\n",
       "      <td>True</td>\n",
       "      <td>malinois</td>\n",
       "      <td>0.138584</td>\n",
       "      <td>True</td>\n",
       "      <td>bloodhound</td>\n",
       "      <td>0.116197</td>\n",
       "      <td>True</td>\n",
       "    </tr>\n",
       "  </tbody>\n",
       "</table>\n",
       "</div>"
      ],
      "text/plain": [
       "             tweet_id                                          jpg_url  \\\n",
       "0  666020888022790149  https://pbs.twimg.com/media/CT4udn0WwAA0aMy.jpg   \n",
       "1  666029285002620928  https://pbs.twimg.com/media/CT42GRgUYAA5iDo.jpg   \n",
       "2  666033412701032449  https://pbs.twimg.com/media/CT4521TWwAEvMyu.jpg   \n",
       "\n",
       "   img_num                      p1   p1_conf  p1_dog                  p2  \\\n",
       "0        1  Welsh_springer_spaniel  0.465074    True              collie   \n",
       "1        1                 redbone  0.506826    True  miniature_pinscher   \n",
       "2        1         German_shepherd  0.596461    True            malinois   \n",
       "\n",
       "    p2_conf  p2_dog                   p3   p3_conf  p3_dog  \n",
       "0  0.156665    True    Shetland_sheepdog  0.061428    True  \n",
       "1  0.074192    True  Rhodesian_ridgeback  0.072010    True  \n",
       "2  0.138584    True           bloodhound  0.116197    True  "
      ]
     },
     "execution_count": 840,
     "metadata": {},
     "output_type": "execute_result"
    }
   ],
   "source": [
    "images_df.head(3)"
   ]
  },
  {
   "cell_type": "code",
   "execution_count": 841,
   "metadata": {},
   "outputs": [
    {
     "data": {
      "text/plain": [
       "(True, (2354, 4))"
      ]
     },
     "execution_count": 841,
     "metadata": {},
     "output_type": "execute_result"
    }
   ],
   "source": [
    "# Examine the shape of the data\n",
    "attr_df.tweet_id.is_unique, attr_df.shape"
   ]
  },
  {
   "cell_type": "code",
   "execution_count": 842,
   "metadata": {},
   "outputs": [
    {
     "data": {
      "text/plain": [
       "(True, (2075, 12))"
      ]
     },
     "execution_count": 842,
     "metadata": {},
     "output_type": "execute_result"
    }
   ],
   "source": [
    "images_df.tweet_id.is_unique, images_df.shape"
   ]
  },
  {
   "cell_type": "code",
   "execution_count": 843,
   "metadata": {},
   "outputs": [
    {
     "data": {
      "text/plain": [
       "(True, (2356, 17))"
      ]
     },
     "execution_count": 843,
     "metadata": {},
     "output_type": "execute_result"
    }
   ],
   "source": [
    "archive_df.tweet_id.is_unique, archive_df.shape"
   ]
  },
  {
   "cell_type": "code",
   "execution_count": 844,
   "metadata": {},
   "outputs": [
    {
     "data": {
      "text/plain": [
       "(0, 0, 0)"
      ]
     },
     "execution_count": 844,
     "metadata": {},
     "output_type": "execute_result"
    }
   ],
   "source": [
    "# check for duplicated rows\n",
    "sum(archive_df.tweet_id.duplicated()), sum(images_df.tweet_id.duplicated()), sum(attr_df.tweet_id.duplicated())"
   ]
  },
  {
   "cell_type": "code",
   "execution_count": 845,
   "metadata": {},
   "outputs": [
    {
     "data": {
      "text/html": [
       "<div>\n",
       "<style scoped>\n",
       "    .dataframe tbody tr th:only-of-type {\n",
       "        vertical-align: middle;\n",
       "    }\n",
       "\n",
       "    .dataframe tbody tr th {\n",
       "        vertical-align: top;\n",
       "    }\n",
       "\n",
       "    .dataframe thead th {\n",
       "        text-align: right;\n",
       "    }\n",
       "</style>\n",
       "<table border=\"1\" class=\"dataframe\">\n",
       "  <thead>\n",
       "    <tr style=\"text-align: right;\">\n",
       "      <th></th>\n",
       "      <th>rating_numerator</th>\n",
       "      <th>rating_denominator</th>\n",
       "    </tr>\n",
       "  </thead>\n",
       "  <tbody>\n",
       "    <tr>\n",
       "      <th>2142</th>\n",
       "      <td>10</td>\n",
       "      <td>10</td>\n",
       "    </tr>\n",
       "    <tr>\n",
       "      <th>1647</th>\n",
       "      <td>12</td>\n",
       "      <td>10</td>\n",
       "    </tr>\n",
       "    <tr>\n",
       "      <th>1612</th>\n",
       "      <td>10</td>\n",
       "      <td>10</td>\n",
       "    </tr>\n",
       "    <tr>\n",
       "      <th>1077</th>\n",
       "      <td>10</td>\n",
       "      <td>10</td>\n",
       "    </tr>\n",
       "    <tr>\n",
       "      <th>289</th>\n",
       "      <td>13</td>\n",
       "      <td>10</td>\n",
       "    </tr>\n",
       "    <tr>\n",
       "      <th>415</th>\n",
       "      <td>13</td>\n",
       "      <td>10</td>\n",
       "    </tr>\n",
       "    <tr>\n",
       "      <th>922</th>\n",
       "      <td>10</td>\n",
       "      <td>10</td>\n",
       "    </tr>\n",
       "    <tr>\n",
       "      <th>1858</th>\n",
       "      <td>13</td>\n",
       "      <td>10</td>\n",
       "    </tr>\n",
       "    <tr>\n",
       "      <th>1358</th>\n",
       "      <td>12</td>\n",
       "      <td>10</td>\n",
       "    </tr>\n",
       "    <tr>\n",
       "      <th>2004</th>\n",
       "      <td>12</td>\n",
       "      <td>10</td>\n",
       "    </tr>\n",
       "  </tbody>\n",
       "</table>\n",
       "</div>"
      ],
      "text/plain": [
       "      rating_numerator  rating_denominator\n",
       "2142                10                  10\n",
       "1647                12                  10\n",
       "1612                10                  10\n",
       "1077                10                  10\n",
       "289                 13                  10\n",
       "415                 13                  10\n",
       "922                 10                  10\n",
       "1858                13                  10\n",
       "1358                12                  10\n",
       "2004                12                  10"
      ]
     },
     "execution_count": 845,
     "metadata": {},
     "output_type": "execute_result"
    }
   ],
   "source": [
    "# look at the ratings to see if there are any problems\n",
    "archive_df[['rating_numerator', 'rating_denominator']].sample(10)"
   ]
  },
  {
   "cell_type": "code",
   "execution_count": 846,
   "metadata": {},
   "outputs": [
    {
     "data": {
      "text/plain": [
       "(2356, 2356)"
      ]
     },
     "execution_count": 846,
     "metadata": {},
     "output_type": "execute_result"
    }
   ],
   "source": [
    "# This checks to make sure the rating_numerator and rating_denominator columns don't have any really bad typos\n",
    "sum(archive_df['rating_denominator'].astype('str').str.isnumeric()), archive_df.shape[0]"
   ]
  },
  {
   "cell_type": "code",
   "execution_count": 847,
   "metadata": {},
   "outputs": [
    {
     "data": {
      "text/plain": [
       "10     2333\n",
       "11        3\n",
       "50        3\n",
       "80        2\n",
       "20        2\n",
       "2         1\n",
       "16        1\n",
       "40        1\n",
       "70        1\n",
       "15        1\n",
       "90        1\n",
       "110       1\n",
       "120       1\n",
       "130       1\n",
       "150       1\n",
       "170       1\n",
       "7         1\n",
       "0         1\n",
       "Name: rating_denominator, dtype: int64"
      ]
     },
     "execution_count": 847,
     "metadata": {},
     "output_type": "execute_result"
    }
   ],
   "source": [
    "# Checking for errors in archive_df -- there are several ratings that are not out of 10\n",
    "archive_df.rating_denominator.value_counts()"
   ]
  },
  {
   "cell_type": "code",
   "execution_count": 848,
   "metadata": {},
   "outputs": [
    {
     "data": {
      "text/plain": [
       "12      558\n",
       "11      464\n",
       "10      461\n",
       "13      351\n",
       "9       158\n",
       "8       102\n",
       "7        55\n",
       "14       54\n",
       "5        37\n",
       "6        32\n",
       "3        19\n",
       "4        17\n",
       "1         9\n",
       "2         9\n",
       "420       2\n",
       "0         2\n",
       "15        2\n",
       "75        2\n",
       "80        1\n",
       "20        1\n",
       "24        1\n",
       "26        1\n",
       "44        1\n",
       "50        1\n",
       "60        1\n",
       "165       1\n",
       "84        1\n",
       "88        1\n",
       "144       1\n",
       "182       1\n",
       "143       1\n",
       "666       1\n",
       "960       1\n",
       "1776      1\n",
       "17        1\n",
       "27        1\n",
       "45        1\n",
       "99        1\n",
       "121       1\n",
       "204       1\n",
       "Name: rating_numerator, dtype: int64"
      ]
     },
     "execution_count": 848,
     "metadata": {},
     "output_type": "execute_result"
    }
   ],
   "source": [
    "# Now the numerator\n",
    "archive_df.rating_numerator.value_counts()"
   ]
  },
  {
   "cell_type": "code",
   "execution_count": 849,
   "metadata": {},
   "outputs": [
    {
     "name": "stdout",
     "output_type": "stream",
     "text": [
      "@jonnysun @Lin_Manuel ok jomny I know you're excited but 960/00 isn't a valid rating, 13/10 is tho \n",
      " Denominator: 0\n",
      "@docmisterio account started on 11/15/15 \n",
      " Denominator: 15\n",
      "The floofs have been released I repeat the floofs have been released. 84/70 https://t.co/NIYC820tmd \n",
      " Denominator: 70\n",
      "Meet Sam. She smiles 24/7 &amp; secretly aspires to be a reindeer. \n",
      "Keep Sam smiling by clicking and sharing this link:\n",
      "https://t.co/98tB8y7y7t https://t.co/LouL5vdvxx \n",
      " Denominator: 7\n",
      "RT @dog_rates: After so many requests, this is Bretagne. She was the last surviving 9/11 search dog, and our second ever 14/10. RIP https:/… \n",
      " Denominator: 11\n",
      "Why does this never happen at my front door... 165/150 https://t.co/HmwrdfEfUE \n",
      " Denominator: 150\n",
      "After so many requests, this is Bretagne. She was the last surviving 9/11 search dog, and our second ever 14/10. RIP https://t.co/XAVDNDaVgQ \n",
      " Denominator: 11\n",
      "Say hello to this unbelievably well behaved squad of doggos. 204/170 would try to pet all at once https://t.co/yGQI3He3xv \n",
      " Denominator: 170\n",
      "Happy 4/20 from the squad! 13/10 for all https://t.co/eV1diwds8a \n",
      " Denominator: 20\n",
      "This is Bluebert. He just saw that both #FinalFur match ups are split 50/50. Amazed af. 11/10 https://t.co/Kky1DPG4iq \n",
      " Denominator: 50\n",
      "Happy Saturday here's 9 puppers on a bench. 99/90 good work everybody https://t.co/mpvaVxKmc1 \n",
      " Denominator: 90\n",
      "Here's a brigade of puppers. All look very prepared for whatever happens next. 80/80 https://t.co/0eb7R1Om12 \n",
      " Denominator: 80\n",
      "From left to right:\n",
      "Cletus, Jerome, Alejandro, Burp, &amp; Titson\n",
      "None know where camera is. 45/50 would hug all at once https://t.co/sedre1ivTK \n",
      " Denominator: 50\n",
      "Here is a whole flock of puppers.  60/50 I'll take the lot https://t.co/9dpcw6MdWa \n",
      " Denominator: 50\n",
      "Happy Wednesday here's a bucket of pups. 44/40 would pet all at once https://t.co/HppvrYuamZ \n",
      " Denominator: 40\n",
      "Yes I do realize a rating of 4/20 would've been fitting. However, it would be unjust to give these cooperative pups that low of a rating \n",
      " Denominator: 20\n",
      "Two sneaky puppers were not initially seen, moving the rating to 143/130. Please forgive us. Thank you https://t.co/kRK51Y5ac3 \n",
      " Denominator: 130\n",
      "Someone help the girl is being mugged. Several are distracting her while two steal her shoes. Clever puppers 121/110 https://t.co/1zfnTJLt55 \n",
      " Denominator: 110\n",
      "This is Darrel. He just robbed a 7/11 and is in a high speed police chase. Was just spotted by the helicopter 10/10 https://t.co/7EsP8LmSp5 \n",
      " Denominator: 11\n",
      "I'm aware that I could've said 20/16, but here at WeRateDogs we are very professional. An inconsistent rating scale is simply irresponsible \n",
      " Denominator: 16\n",
      "IT'S PUPPERGEDDON. Total of 144/120 ...I think https://t.co/ZanVtAtvIq \n",
      " Denominator: 120\n",
      "Here we have an entire platoon of puppers. Total score: 88/80 would pet all at once https://t.co/y93p6FLvVw \n",
      " Denominator: 80\n",
      "This is an Albanian 3 1/2 legged  Episcopalian. Loves well-polished hardwood flooring. Penis on the collar. 9/10 https://t.co/d9NcXFKwLv \n",
      " Denominator: 2\n"
     ]
    }
   ],
   "source": [
    "# Visual inspection of some the tweets' urls in a browser shows that users sometimes rate out of multiples of 10\n",
    "# if the images shows more than one dog, so 60/60 if there are 6 dogs, but in  most cases there is an error,\n",
    "# e.g. 3 times 9/11 gets mistaken for a rating.\n",
    "\n",
    "# This creates a list of the indices for rows where the denominator is other than 10\n",
    "# prints out all the texts of tweets where the denominator is something other than 10\n",
    "weird_denom_list = list(archive_df.loc[archive_df['rating_denominator'] != 10].index.values)\n",
    "for w in weird_denom_list:\n",
    "    print(archive_df.iloc[w]['text'], '\\n Denominator:', archive_df.rating_denominator.iloc[w])"
   ]
  },
  {
   "cell_type": "code",
   "execution_count": 850,
   "metadata": {},
   "outputs": [
    {
     "data": {
      "text/plain": [
       "None       745\n",
       "a           55\n",
       "Charlie     12\n",
       "Lucy        11\n",
       "Oliver      11\n",
       "          ... \n",
       "Boston       1\n",
       "Chuck        1\n",
       "Edd          1\n",
       "Andru        1\n",
       "Tiger        1\n",
       "Name: name, Length: 957, dtype: int64"
      ]
     },
     "execution_count": 850,
     "metadata": {},
     "output_type": "execute_result"
    }
   ],
   "source": [
    "# There are also several names that are not names, like \"a\"\n",
    "A = archive_df.name.value_counts()\n",
    "A"
   ]
  },
  {
   "cell_type": "code",
   "execution_count": 851,
   "metadata": {},
   "outputs": [
    {
     "name": "stdout",
     "output_type": "stream",
     "text": [
      "<class 'pandas.core.frame.DataFrame'>\n",
      "RangeIndex: 2075 entries, 0 to 2074\n",
      "Data columns (total 12 columns):\n",
      " #   Column    Non-Null Count  Dtype  \n",
      "---  ------    --------------  -----  \n",
      " 0   tweet_id  2075 non-null   int64  \n",
      " 1   jpg_url   2075 non-null   object \n",
      " 2   img_num   2075 non-null   int64  \n",
      " 3   p1        2075 non-null   object \n",
      " 4   p1_conf   2075 non-null   float64\n",
      " 5   p1_dog    2075 non-null   bool   \n",
      " 6   p2        2075 non-null   object \n",
      " 7   p2_conf   2075 non-null   float64\n",
      " 8   p2_dog    2075 non-null   bool   \n",
      " 9   p3        2075 non-null   object \n",
      " 10  p3_conf   2075 non-null   float64\n",
      " 11  p3_dog    2075 non-null   bool   \n",
      "dtypes: bool(3), float64(3), int64(2), object(4)\n",
      "memory usage: 152.1+ KB\n"
     ]
    }
   ],
   "source": [
    "# There are no NaNs for the values we're interested in\n",
    "# The breed names in p1, p2 and p3 are objects\n",
    "# We should consider making a categorical breed cateogry because its values are a finite set of options without order.\n",
    "images_df.info()"
   ]
  },
  {
   "cell_type": "markdown",
   "metadata": {},
   "source": [
    "### Summary of issues to be cleaned\n",
    "**Quality**\n",
    "- `archive_df` has 2356 unique ids, `images_df` 2075 and `attr_df` 2354.\n",
    "- There are retweets in the `archive_df` that need to be removed.\n",
    "- `archive_df`: some dog names are incorrect, e.g. \"a\", \"the\" for \"None\"\n",
    "- `archive_df`: some of the ratings are not out of 10\n",
    "- `images_df`: some of the dogs are misidentified as other objects\n",
    "- `tweet_id` is an `int` in all dfs\n",
    "- `Timestamp` in `attr_df` is `object`.\n",
    "- `Timestamp` in `archive_df` is `object`.\n",
    "- `breed` in `images_df` should be categorical and capitalization of breeds made consistent\n",
    "- `doggo`, `floofer`, `pupper`, `puppo` in `archive_df` should be Boolean instead of pandas objects\n",
    "\n",
    "**Tidiness**\n",
    "- `tweet_id` is duplicated across all three dfs and `timestamp` is duplicated across `attr_df` and `archive_df`\n",
    "- each observational unit forms a table -- we need to put everything in one table\n",
    "- `images_df` -- this could be both a tidiness issue or quality, but the most likely dog breed is distributed across several columns\n",
    "- `images_df` -- the pictures of multiple dogs represent more than one observation per row, so we drop those"
   ]
  },
  {
   "cell_type": "markdown",
   "metadata": {},
   "source": [
    "### Tidiness"
   ]
  },
  {
   "cell_type": "markdown",
   "metadata": {},
   "source": [
    "#### <font color = blue> Completeness (Quality): `archive_df` has 2356 unique ids, `images_df` 2075 and `attr_df` 2354/ <br> Tidiness: each observational unit forms a table &mdash; we need to put everything in one table\n",
    " </font>\n",
    "\n",
    "##### Define\n",
    "*Use `pd.merge()` to join the three dataframes on `tweet_id`. Since there are three dataframes, I used the reduce() method from Python's functools library and a lambda function as suggested by someone on stackoverflow. This removes any tweets not common to all three dfs.*"
   ]
  },
  {
   "cell_type": "markdown",
   "metadata": {},
   "source": [
    "##### Code"
   ]
  },
  {
   "cell_type": "code",
   "execution_count": 852,
   "metadata": {},
   "outputs": [],
   "source": [
    "# Merge two of the dataframes, the default is an inner join so that will get rid of any rows that are not common\n",
    "# to all three dfs\n",
    "first_two = archive_df.merge(images_df, on='tweet_id')"
   ]
  },
  {
   "cell_type": "code",
   "execution_count": 853,
   "metadata": {},
   "outputs": [],
   "source": [
    "# then another merge for the third df\n",
    "final_df = attr_df.merge(first_two, on='tweet_id')"
   ]
  },
  {
   "cell_type": "code",
   "execution_count": 854,
   "metadata": {},
   "outputs": [],
   "source": [
    "df_clean = final_df.copy()"
   ]
  },
  {
   "cell_type": "markdown",
   "metadata": {},
   "source": [
    "##### Test"
   ]
  },
  {
   "cell_type": "code",
   "execution_count": 855,
   "metadata": {},
   "outputs": [
    {
     "data": {
      "text/plain": [
       "(2073, 31)"
      ]
     },
     "execution_count": 855,
     "metadata": {},
     "output_type": "execute_result"
    }
   ],
   "source": [
    "# We're down to 2073 rows\n",
    "df_clean.shape"
   ]
  },
  {
   "cell_type": "code",
   "execution_count": 856,
   "metadata": {},
   "outputs": [
    {
     "data": {
      "text/html": [
       "<div>\n",
       "<style scoped>\n",
       "    .dataframe tbody tr th:only-of-type {\n",
       "        vertical-align: middle;\n",
       "    }\n",
       "\n",
       "    .dataframe tbody tr th {\n",
       "        vertical-align: top;\n",
       "    }\n",
       "\n",
       "    .dataframe thead th {\n",
       "        text-align: right;\n",
       "    }\n",
       "</style>\n",
       "<table border=\"1\" class=\"dataframe\">\n",
       "  <thead>\n",
       "    <tr style=\"text-align: right;\">\n",
       "      <th></th>\n",
       "      <th>tweet_id</th>\n",
       "      <th>favorites</th>\n",
       "      <th>retweets</th>\n",
       "      <th>timestamp_x</th>\n",
       "      <th>in_reply_to_status_id</th>\n",
       "      <th>in_reply_to_user_id</th>\n",
       "      <th>timestamp_y</th>\n",
       "      <th>source</th>\n",
       "      <th>text</th>\n",
       "      <th>retweeted_status_id</th>\n",
       "      <th>...</th>\n",
       "      <th>img_num</th>\n",
       "      <th>p1</th>\n",
       "      <th>p1_conf</th>\n",
       "      <th>p1_dog</th>\n",
       "      <th>p2</th>\n",
       "      <th>p2_conf</th>\n",
       "      <th>p2_dog</th>\n",
       "      <th>p3</th>\n",
       "      <th>p3_conf</th>\n",
       "      <th>p3_dog</th>\n",
       "    </tr>\n",
       "  </thead>\n",
       "  <tbody>\n",
       "    <tr>\n",
       "      <th>0</th>\n",
       "      <td>892420643555336193</td>\n",
       "      <td>39467</td>\n",
       "      <td>8853</td>\n",
       "      <td>Tue Aug 01 16:23:56 +0000 2017</td>\n",
       "      <td>NaN</td>\n",
       "      <td>NaN</td>\n",
       "      <td>2017-08-01 16:23:56 +0000</td>\n",
       "      <td>&lt;a href=\"http://twitter.com/download/iphone\" r...</td>\n",
       "      <td>This is Phineas. He's a mystical boy. Only eve...</td>\n",
       "      <td>NaN</td>\n",
       "      <td>...</td>\n",
       "      <td>1</td>\n",
       "      <td>orange</td>\n",
       "      <td>0.097049</td>\n",
       "      <td>False</td>\n",
       "      <td>bagel</td>\n",
       "      <td>0.085851</td>\n",
       "      <td>False</td>\n",
       "      <td>banana</td>\n",
       "      <td>0.076110</td>\n",
       "      <td>False</td>\n",
       "    </tr>\n",
       "    <tr>\n",
       "      <th>1</th>\n",
       "      <td>892177421306343426</td>\n",
       "      <td>33819</td>\n",
       "      <td>6514</td>\n",
       "      <td>Tue Aug 01 00:17:27 +0000 2017</td>\n",
       "      <td>NaN</td>\n",
       "      <td>NaN</td>\n",
       "      <td>2017-08-01 00:17:27 +0000</td>\n",
       "      <td>&lt;a href=\"http://twitter.com/download/iphone\" r...</td>\n",
       "      <td>This is Tilly. She's just checking pup on you....</td>\n",
       "      <td>NaN</td>\n",
       "      <td>...</td>\n",
       "      <td>1</td>\n",
       "      <td>Chihuahua</td>\n",
       "      <td>0.323581</td>\n",
       "      <td>True</td>\n",
       "      <td>Pekinese</td>\n",
       "      <td>0.090647</td>\n",
       "      <td>True</td>\n",
       "      <td>papillon</td>\n",
       "      <td>0.068957</td>\n",
       "      <td>True</td>\n",
       "    </tr>\n",
       "    <tr>\n",
       "      <th>2</th>\n",
       "      <td>891815181378084864</td>\n",
       "      <td>25461</td>\n",
       "      <td>4328</td>\n",
       "      <td>Mon Jul 31 00:18:03 +0000 2017</td>\n",
       "      <td>NaN</td>\n",
       "      <td>NaN</td>\n",
       "      <td>2017-07-31 00:18:03 +0000</td>\n",
       "      <td>&lt;a href=\"http://twitter.com/download/iphone\" r...</td>\n",
       "      <td>This is Archie. He is a rare Norwegian Pouncin...</td>\n",
       "      <td>NaN</td>\n",
       "      <td>...</td>\n",
       "      <td>1</td>\n",
       "      <td>Chihuahua</td>\n",
       "      <td>0.716012</td>\n",
       "      <td>True</td>\n",
       "      <td>malamute</td>\n",
       "      <td>0.078253</td>\n",
       "      <td>True</td>\n",
       "      <td>kelpie</td>\n",
       "      <td>0.031379</td>\n",
       "      <td>True</td>\n",
       "    </tr>\n",
       "    <tr>\n",
       "      <th>3</th>\n",
       "      <td>891689557279858688</td>\n",
       "      <td>42908</td>\n",
       "      <td>8964</td>\n",
       "      <td>Sun Jul 30 15:58:51 +0000 2017</td>\n",
       "      <td>NaN</td>\n",
       "      <td>NaN</td>\n",
       "      <td>2017-07-30 15:58:51 +0000</td>\n",
       "      <td>&lt;a href=\"http://twitter.com/download/iphone\" r...</td>\n",
       "      <td>This is Darla. She commenced a snooze mid meal...</td>\n",
       "      <td>NaN</td>\n",
       "      <td>...</td>\n",
       "      <td>1</td>\n",
       "      <td>paper_towel</td>\n",
       "      <td>0.170278</td>\n",
       "      <td>False</td>\n",
       "      <td>Labrador_retriever</td>\n",
       "      <td>0.168086</td>\n",
       "      <td>True</td>\n",
       "      <td>spatula</td>\n",
       "      <td>0.040836</td>\n",
       "      <td>False</td>\n",
       "    </tr>\n",
       "    <tr>\n",
       "      <th>4</th>\n",
       "      <td>891327558926688256</td>\n",
       "      <td>41048</td>\n",
       "      <td>9774</td>\n",
       "      <td>Sat Jul 29 16:00:24 +0000 2017</td>\n",
       "      <td>NaN</td>\n",
       "      <td>NaN</td>\n",
       "      <td>2017-07-29 16:00:24 +0000</td>\n",
       "      <td>&lt;a href=\"http://twitter.com/download/iphone\" r...</td>\n",
       "      <td>This is Franklin. He would like you to stop ca...</td>\n",
       "      <td>NaN</td>\n",
       "      <td>...</td>\n",
       "      <td>2</td>\n",
       "      <td>basset</td>\n",
       "      <td>0.555712</td>\n",
       "      <td>True</td>\n",
       "      <td>English_springer</td>\n",
       "      <td>0.225770</td>\n",
       "      <td>True</td>\n",
       "      <td>German_short-haired_pointer</td>\n",
       "      <td>0.175219</td>\n",
       "      <td>True</td>\n",
       "    </tr>\n",
       "    <tr>\n",
       "      <th>...</th>\n",
       "      <td>...</td>\n",
       "      <td>...</td>\n",
       "      <td>...</td>\n",
       "      <td>...</td>\n",
       "      <td>...</td>\n",
       "      <td>...</td>\n",
       "      <td>...</td>\n",
       "      <td>...</td>\n",
       "      <td>...</td>\n",
       "      <td>...</td>\n",
       "      <td>...</td>\n",
       "      <td>...</td>\n",
       "      <td>...</td>\n",
       "      <td>...</td>\n",
       "      <td>...</td>\n",
       "      <td>...</td>\n",
       "      <td>...</td>\n",
       "      <td>...</td>\n",
       "      <td>...</td>\n",
       "      <td>...</td>\n",
       "      <td>...</td>\n",
       "    </tr>\n",
       "    <tr>\n",
       "      <th>2068</th>\n",
       "      <td>666049248165822465</td>\n",
       "      <td>111</td>\n",
       "      <td>41</td>\n",
       "      <td>Mon Nov 16 00:24:50 +0000 2015</td>\n",
       "      <td>NaN</td>\n",
       "      <td>NaN</td>\n",
       "      <td>2015-11-16 00:24:50 +0000</td>\n",
       "      <td>&lt;a href=\"http://twitter.com/download/iphone\" r...</td>\n",
       "      <td>Here we have a 1949 1st generation vulpix. Enj...</td>\n",
       "      <td>NaN</td>\n",
       "      <td>...</td>\n",
       "      <td>1</td>\n",
       "      <td>miniature_pinscher</td>\n",
       "      <td>0.560311</td>\n",
       "      <td>True</td>\n",
       "      <td>Rottweiler</td>\n",
       "      <td>0.243682</td>\n",
       "      <td>True</td>\n",
       "      <td>Doberman</td>\n",
       "      <td>0.154629</td>\n",
       "      <td>True</td>\n",
       "    </tr>\n",
       "    <tr>\n",
       "      <th>2069</th>\n",
       "      <td>666044226329800704</td>\n",
       "      <td>311</td>\n",
       "      <td>147</td>\n",
       "      <td>Mon Nov 16 00:04:52 +0000 2015</td>\n",
       "      <td>NaN</td>\n",
       "      <td>NaN</td>\n",
       "      <td>2015-11-16 00:04:52 +0000</td>\n",
       "      <td>&lt;a href=\"http://twitter.com/download/iphone\" r...</td>\n",
       "      <td>This is a purebred Piers Morgan. Loves to Netf...</td>\n",
       "      <td>NaN</td>\n",
       "      <td>...</td>\n",
       "      <td>1</td>\n",
       "      <td>Rhodesian_ridgeback</td>\n",
       "      <td>0.408143</td>\n",
       "      <td>True</td>\n",
       "      <td>redbone</td>\n",
       "      <td>0.360687</td>\n",
       "      <td>True</td>\n",
       "      <td>miniature_pinscher</td>\n",
       "      <td>0.222752</td>\n",
       "      <td>True</td>\n",
       "    </tr>\n",
       "    <tr>\n",
       "      <th>2070</th>\n",
       "      <td>666033412701032449</td>\n",
       "      <td>128</td>\n",
       "      <td>47</td>\n",
       "      <td>Sun Nov 15 23:21:54 +0000 2015</td>\n",
       "      <td>NaN</td>\n",
       "      <td>NaN</td>\n",
       "      <td>2015-11-15 23:21:54 +0000</td>\n",
       "      <td>&lt;a href=\"http://twitter.com/download/iphone\" r...</td>\n",
       "      <td>Here is a very happy pup. Big fan of well-main...</td>\n",
       "      <td>NaN</td>\n",
       "      <td>...</td>\n",
       "      <td>1</td>\n",
       "      <td>German_shepherd</td>\n",
       "      <td>0.596461</td>\n",
       "      <td>True</td>\n",
       "      <td>malinois</td>\n",
       "      <td>0.138584</td>\n",
       "      <td>True</td>\n",
       "      <td>bloodhound</td>\n",
       "      <td>0.116197</td>\n",
       "      <td>True</td>\n",
       "    </tr>\n",
       "    <tr>\n",
       "      <th>2071</th>\n",
       "      <td>666029285002620928</td>\n",
       "      <td>132</td>\n",
       "      <td>48</td>\n",
       "      <td>Sun Nov 15 23:05:30 +0000 2015</td>\n",
       "      <td>NaN</td>\n",
       "      <td>NaN</td>\n",
       "      <td>2015-11-15 23:05:30 +0000</td>\n",
       "      <td>&lt;a href=\"http://twitter.com/download/iphone\" r...</td>\n",
       "      <td>This is a western brown Mitsubishi terrier. Up...</td>\n",
       "      <td>NaN</td>\n",
       "      <td>...</td>\n",
       "      <td>1</td>\n",
       "      <td>redbone</td>\n",
       "      <td>0.506826</td>\n",
       "      <td>True</td>\n",
       "      <td>miniature_pinscher</td>\n",
       "      <td>0.074192</td>\n",
       "      <td>True</td>\n",
       "      <td>Rhodesian_ridgeback</td>\n",
       "      <td>0.072010</td>\n",
       "      <td>True</td>\n",
       "    </tr>\n",
       "    <tr>\n",
       "      <th>2072</th>\n",
       "      <td>666020888022790149</td>\n",
       "      <td>2535</td>\n",
       "      <td>532</td>\n",
       "      <td>Sun Nov 15 22:32:08 +0000 2015</td>\n",
       "      <td>NaN</td>\n",
       "      <td>NaN</td>\n",
       "      <td>2015-11-15 22:32:08 +0000</td>\n",
       "      <td>&lt;a href=\"http://twitter.com/download/iphone\" r...</td>\n",
       "      <td>Here we have a Japanese Irish Setter. Lost eye...</td>\n",
       "      <td>NaN</td>\n",
       "      <td>...</td>\n",
       "      <td>1</td>\n",
       "      <td>Welsh_springer_spaniel</td>\n",
       "      <td>0.465074</td>\n",
       "      <td>True</td>\n",
       "      <td>collie</td>\n",
       "      <td>0.156665</td>\n",
       "      <td>True</td>\n",
       "      <td>Shetland_sheepdog</td>\n",
       "      <td>0.061428</td>\n",
       "      <td>True</td>\n",
       "    </tr>\n",
       "  </tbody>\n",
       "</table>\n",
       "<p>2073 rows × 31 columns</p>\n",
       "</div>"
      ],
      "text/plain": [
       "                tweet_id  favorites  retweets                     timestamp_x  \\\n",
       "0     892420643555336193      39467      8853  Tue Aug 01 16:23:56 +0000 2017   \n",
       "1     892177421306343426      33819      6514  Tue Aug 01 00:17:27 +0000 2017   \n",
       "2     891815181378084864      25461      4328  Mon Jul 31 00:18:03 +0000 2017   \n",
       "3     891689557279858688      42908      8964  Sun Jul 30 15:58:51 +0000 2017   \n",
       "4     891327558926688256      41048      9774  Sat Jul 29 16:00:24 +0000 2017   \n",
       "...                  ...        ...       ...                             ...   \n",
       "2068  666049248165822465        111        41  Mon Nov 16 00:24:50 +0000 2015   \n",
       "2069  666044226329800704        311       147  Mon Nov 16 00:04:52 +0000 2015   \n",
       "2070  666033412701032449        128        47  Sun Nov 15 23:21:54 +0000 2015   \n",
       "2071  666029285002620928        132        48  Sun Nov 15 23:05:30 +0000 2015   \n",
       "2072  666020888022790149       2535       532  Sun Nov 15 22:32:08 +0000 2015   \n",
       "\n",
       "      in_reply_to_status_id  in_reply_to_user_id                timestamp_y  \\\n",
       "0                       NaN                  NaN  2017-08-01 16:23:56 +0000   \n",
       "1                       NaN                  NaN  2017-08-01 00:17:27 +0000   \n",
       "2                       NaN                  NaN  2017-07-31 00:18:03 +0000   \n",
       "3                       NaN                  NaN  2017-07-30 15:58:51 +0000   \n",
       "4                       NaN                  NaN  2017-07-29 16:00:24 +0000   \n",
       "...                     ...                  ...                        ...   \n",
       "2068                    NaN                  NaN  2015-11-16 00:24:50 +0000   \n",
       "2069                    NaN                  NaN  2015-11-16 00:04:52 +0000   \n",
       "2070                    NaN                  NaN  2015-11-15 23:21:54 +0000   \n",
       "2071                    NaN                  NaN  2015-11-15 23:05:30 +0000   \n",
       "2072                    NaN                  NaN  2015-11-15 22:32:08 +0000   \n",
       "\n",
       "                                                 source  \\\n",
       "0     <a href=\"http://twitter.com/download/iphone\" r...   \n",
       "1     <a href=\"http://twitter.com/download/iphone\" r...   \n",
       "2     <a href=\"http://twitter.com/download/iphone\" r...   \n",
       "3     <a href=\"http://twitter.com/download/iphone\" r...   \n",
       "4     <a href=\"http://twitter.com/download/iphone\" r...   \n",
       "...                                                 ...   \n",
       "2068  <a href=\"http://twitter.com/download/iphone\" r...   \n",
       "2069  <a href=\"http://twitter.com/download/iphone\" r...   \n",
       "2070  <a href=\"http://twitter.com/download/iphone\" r...   \n",
       "2071  <a href=\"http://twitter.com/download/iphone\" r...   \n",
       "2072  <a href=\"http://twitter.com/download/iphone\" r...   \n",
       "\n",
       "                                                   text  retweeted_status_id  \\\n",
       "0     This is Phineas. He's a mystical boy. Only eve...                  NaN   \n",
       "1     This is Tilly. She's just checking pup on you....                  NaN   \n",
       "2     This is Archie. He is a rare Norwegian Pouncin...                  NaN   \n",
       "3     This is Darla. She commenced a snooze mid meal...                  NaN   \n",
       "4     This is Franklin. He would like you to stop ca...                  NaN   \n",
       "...                                                 ...                  ...   \n",
       "2068  Here we have a 1949 1st generation vulpix. Enj...                  NaN   \n",
       "2069  This is a purebred Piers Morgan. Loves to Netf...                  NaN   \n",
       "2070  Here is a very happy pup. Big fan of well-main...                  NaN   \n",
       "2071  This is a western brown Mitsubishi terrier. Up...                  NaN   \n",
       "2072  Here we have a Japanese Irish Setter. Lost eye...                  NaN   \n",
       "\n",
       "      ...  img_num                      p1   p1_conf  p1_dog  \\\n",
       "0     ...        1                  orange  0.097049   False   \n",
       "1     ...        1               Chihuahua  0.323581    True   \n",
       "2     ...        1               Chihuahua  0.716012    True   \n",
       "3     ...        1             paper_towel  0.170278   False   \n",
       "4     ...        2                  basset  0.555712    True   \n",
       "...   ...      ...                     ...       ...     ...   \n",
       "2068  ...        1      miniature_pinscher  0.560311    True   \n",
       "2069  ...        1     Rhodesian_ridgeback  0.408143    True   \n",
       "2070  ...        1         German_shepherd  0.596461    True   \n",
       "2071  ...        1                 redbone  0.506826    True   \n",
       "2072  ...        1  Welsh_springer_spaniel  0.465074    True   \n",
       "\n",
       "                      p2   p2_conf p2_dog                           p3  \\\n",
       "0                  bagel  0.085851  False                       banana   \n",
       "1               Pekinese  0.090647   True                     papillon   \n",
       "2               malamute  0.078253   True                       kelpie   \n",
       "3     Labrador_retriever  0.168086   True                      spatula   \n",
       "4       English_springer  0.225770   True  German_short-haired_pointer   \n",
       "...                  ...       ...    ...                          ...   \n",
       "2068          Rottweiler  0.243682   True                     Doberman   \n",
       "2069             redbone  0.360687   True           miniature_pinscher   \n",
       "2070            malinois  0.138584   True                   bloodhound   \n",
       "2071  miniature_pinscher  0.074192   True          Rhodesian_ridgeback   \n",
       "2072              collie  0.156665   True            Shetland_sheepdog   \n",
       "\n",
       "       p3_conf p3_dog  \n",
       "0     0.076110  False  \n",
       "1     0.068957   True  \n",
       "2     0.031379   True  \n",
       "3     0.040836  False  \n",
       "4     0.175219   True  \n",
       "...        ...    ...  \n",
       "2068  0.154629   True  \n",
       "2069  0.222752   True  \n",
       "2070  0.116197   True  \n",
       "2071  0.072010   True  \n",
       "2072  0.061428   True  \n",
       "\n",
       "[2073 rows x 31 columns]"
      ]
     },
     "execution_count": 856,
     "metadata": {},
     "output_type": "execute_result"
    }
   ],
   "source": [
    "# And it looks good -- one unintended consequence is that we now have two \n",
    "df_clean"
   ]
  },
  {
   "cell_type": "markdown",
   "metadata": {},
   "source": [
    "#### <font color = blue> `images_df`: the most likely dog breed is distributed across several columns and some columns have no dogs in any of `p1_dog`, `p2_dog`, `p3_dog` </font>\n",
    "##### Define\n",
    "Use a `for` loop to create a new column, `breed` that has the most probable breed value. Delete the rest."
   ]
  },
  {
   "cell_type": "markdown",
   "metadata": {},
   "source": [
    "##### Code"
   ]
  },
  {
   "cell_type": "code",
   "execution_count": 857,
   "metadata": {},
   "outputs": [],
   "source": [
    "# A nested for loop iterates over first the rows and then (internal loop) each column\n",
    "\n",
    "for row in range(0,df_clean.shape[0]):\n",
    "\n",
    "    # There are three columns to check so the counter will let us know when we've finished three\n",
    "    counter = 0\n",
    "    breeds = ['p1_dog', 'p2_dog', 'p3_dog']\n",
    "\n",
    "    for breed in breeds:\n",
    "        counter +=1\n",
    "\n",
    "        # First if-clause confirms dogs, creates column 'breed',\n",
    "        # and populates it with current row and p_1, p_2 or p_3 column value\n",
    "        if df_clean.at[row, breed] == True:\n",
    "            df_clean.at[row, 'breed'] = df_clean.at[row, breed[:2]]\n",
    "            break\n",
    "        # Initially ignored, when counter reaches three because all three columns are False, 'breed' column reads 'no dog'\n",
    "        elif counter == 3:\n",
    "            df_clean.at[row, 'breed'] = \"no dog\"\n",
    "        \n",
    "        # if p1_dog etc column is false for this row, loop continues\n",
    "        elif df_clean.at[row, breed ] == False:\n",
    "            continue"
   ]
  },
  {
   "cell_type": "code",
   "execution_count": 858,
   "metadata": {},
   "outputs": [],
   "source": [
    "nodog = df_clean[df_clean.breed == \"no dog\"]\n",
    "df_clean = df_clean[df_clean.breed != \"no dog\"].copy()"
   ]
  },
  {
   "cell_type": "code",
   "execution_count": 859,
   "metadata": {},
   "outputs": [],
   "source": [
    "# Get rid of the other columns related to breed identity\n",
    "df_clean = df_clean.drop(['p1', 'p1_conf', 'p1_dog', 'p2', 'p2_conf', 'p2_dog', 'p3', 'p3_conf', 'p3_dog'], axis=1).reset_index(drop=True)"
   ]
  },
  {
   "cell_type": "markdown",
   "metadata": {},
   "source": [
    "##### Test"
   ]
  },
  {
   "cell_type": "code",
   "execution_count": 860,
   "metadata": {},
   "outputs": [
    {
     "data": {
      "text/plain": [
       "golden_retriever      173\n",
       "Labrador_retriever    113\n",
       "Pembroke               95\n",
       "Chihuahua              95\n",
       "pug                    65\n",
       "                     ... \n",
       "clumber                 1\n",
       "silky_terrier           1\n",
       "Japanese_spaniel        1\n",
       "Scotch_terrier          1\n",
       "Irish_wolfhound         1\n",
       "Name: breed, Length: 113, dtype: int64"
      ]
     },
     "execution_count": 860,
     "metadata": {},
     "output_type": "execute_result"
    }
   ],
   "source": [
    "# Check that the \"no dog\" catetories have been captured and removed\n",
    "df_clean.breed.value_counts()"
   ]
  },
  {
   "cell_type": "code",
   "execution_count": 861,
   "metadata": {},
   "outputs": [
    {
     "data": {
      "text/html": [
       "<div>\n",
       "<style scoped>\n",
       "    .dataframe tbody tr th:only-of-type {\n",
       "        vertical-align: middle;\n",
       "    }\n",
       "\n",
       "    .dataframe tbody tr th {\n",
       "        vertical-align: top;\n",
       "    }\n",
       "\n",
       "    .dataframe thead th {\n",
       "        text-align: right;\n",
       "    }\n",
       "</style>\n",
       "<table border=\"1\" class=\"dataframe\">\n",
       "  <thead>\n",
       "    <tr style=\"text-align: right;\">\n",
       "      <th></th>\n",
       "      <th>tweet_id</th>\n",
       "      <th>favorites</th>\n",
       "      <th>retweets</th>\n",
       "      <th>timestamp_x</th>\n",
       "      <th>in_reply_to_status_id</th>\n",
       "      <th>in_reply_to_user_id</th>\n",
       "      <th>timestamp_y</th>\n",
       "      <th>source</th>\n",
       "      <th>text</th>\n",
       "      <th>retweeted_status_id</th>\n",
       "      <th>...</th>\n",
       "      <th>rating_numerator</th>\n",
       "      <th>rating_denominator</th>\n",
       "      <th>name</th>\n",
       "      <th>doggo</th>\n",
       "      <th>floofer</th>\n",
       "      <th>pupper</th>\n",
       "      <th>puppo</th>\n",
       "      <th>jpg_url</th>\n",
       "      <th>img_num</th>\n",
       "      <th>breed</th>\n",
       "    </tr>\n",
       "  </thead>\n",
       "  <tbody>\n",
       "    <tr>\n",
       "      <th>0</th>\n",
       "      <td>892177421306343426</td>\n",
       "      <td>33819</td>\n",
       "      <td>6514</td>\n",
       "      <td>Tue Aug 01 00:17:27 +0000 2017</td>\n",
       "      <td>NaN</td>\n",
       "      <td>NaN</td>\n",
       "      <td>2017-08-01 00:17:27 +0000</td>\n",
       "      <td>&lt;a href=\"http://twitter.com/download/iphone\" r...</td>\n",
       "      <td>This is Tilly. She's just checking pup on you....</td>\n",
       "      <td>NaN</td>\n",
       "      <td>...</td>\n",
       "      <td>13</td>\n",
       "      <td>10</td>\n",
       "      <td>Tilly</td>\n",
       "      <td>None</td>\n",
       "      <td>None</td>\n",
       "      <td>None</td>\n",
       "      <td>None</td>\n",
       "      <td>https://pbs.twimg.com/media/DGGmoV4XsAAUL6n.jpg</td>\n",
       "      <td>1</td>\n",
       "      <td>Chihuahua</td>\n",
       "    </tr>\n",
       "    <tr>\n",
       "      <th>1</th>\n",
       "      <td>891815181378084864</td>\n",
       "      <td>25461</td>\n",
       "      <td>4328</td>\n",
       "      <td>Mon Jul 31 00:18:03 +0000 2017</td>\n",
       "      <td>NaN</td>\n",
       "      <td>NaN</td>\n",
       "      <td>2017-07-31 00:18:03 +0000</td>\n",
       "      <td>&lt;a href=\"http://twitter.com/download/iphone\" r...</td>\n",
       "      <td>This is Archie. He is a rare Norwegian Pouncin...</td>\n",
       "      <td>NaN</td>\n",
       "      <td>...</td>\n",
       "      <td>12</td>\n",
       "      <td>10</td>\n",
       "      <td>Archie</td>\n",
       "      <td>None</td>\n",
       "      <td>None</td>\n",
       "      <td>None</td>\n",
       "      <td>None</td>\n",
       "      <td>https://pbs.twimg.com/media/DGBdLU1WsAANxJ9.jpg</td>\n",
       "      <td>1</td>\n",
       "      <td>Chihuahua</td>\n",
       "    </tr>\n",
       "    <tr>\n",
       "      <th>2</th>\n",
       "      <td>891689557279858688</td>\n",
       "      <td>42908</td>\n",
       "      <td>8964</td>\n",
       "      <td>Sun Jul 30 15:58:51 +0000 2017</td>\n",
       "      <td>NaN</td>\n",
       "      <td>NaN</td>\n",
       "      <td>2017-07-30 15:58:51 +0000</td>\n",
       "      <td>&lt;a href=\"http://twitter.com/download/iphone\" r...</td>\n",
       "      <td>This is Darla. She commenced a snooze mid meal...</td>\n",
       "      <td>NaN</td>\n",
       "      <td>...</td>\n",
       "      <td>13</td>\n",
       "      <td>10</td>\n",
       "      <td>Darla</td>\n",
       "      <td>None</td>\n",
       "      <td>None</td>\n",
       "      <td>None</td>\n",
       "      <td>None</td>\n",
       "      <td>https://pbs.twimg.com/media/DF_q7IAWsAEuuN8.jpg</td>\n",
       "      <td>1</td>\n",
       "      <td>Labrador_retriever</td>\n",
       "    </tr>\n",
       "    <tr>\n",
       "      <th>3</th>\n",
       "      <td>891327558926688256</td>\n",
       "      <td>41048</td>\n",
       "      <td>9774</td>\n",
       "      <td>Sat Jul 29 16:00:24 +0000 2017</td>\n",
       "      <td>NaN</td>\n",
       "      <td>NaN</td>\n",
       "      <td>2017-07-29 16:00:24 +0000</td>\n",
       "      <td>&lt;a href=\"http://twitter.com/download/iphone\" r...</td>\n",
       "      <td>This is Franklin. He would like you to stop ca...</td>\n",
       "      <td>NaN</td>\n",
       "      <td>...</td>\n",
       "      <td>12</td>\n",
       "      <td>10</td>\n",
       "      <td>Franklin</td>\n",
       "      <td>None</td>\n",
       "      <td>None</td>\n",
       "      <td>None</td>\n",
       "      <td>None</td>\n",
       "      <td>https://pbs.twimg.com/media/DF6hr6BUMAAzZgT.jpg</td>\n",
       "      <td>2</td>\n",
       "      <td>basset</td>\n",
       "    </tr>\n",
       "    <tr>\n",
       "      <th>4</th>\n",
       "      <td>891087950875897856</td>\n",
       "      <td>20562</td>\n",
       "      <td>3261</td>\n",
       "      <td>Sat Jul 29 00:08:17 +0000 2017</td>\n",
       "      <td>NaN</td>\n",
       "      <td>NaN</td>\n",
       "      <td>2017-07-29 00:08:17 +0000</td>\n",
       "      <td>&lt;a href=\"http://twitter.com/download/iphone\" r...</td>\n",
       "      <td>Here we have a majestic great white breaching ...</td>\n",
       "      <td>NaN</td>\n",
       "      <td>...</td>\n",
       "      <td>13</td>\n",
       "      <td>10</td>\n",
       "      <td>None</td>\n",
       "      <td>None</td>\n",
       "      <td>None</td>\n",
       "      <td>None</td>\n",
       "      <td>None</td>\n",
       "      <td>https://pbs.twimg.com/media/DF3HwyEWsAABqE6.jpg</td>\n",
       "      <td>1</td>\n",
       "      <td>Chesapeake_Bay_retriever</td>\n",
       "    </tr>\n",
       "    <tr>\n",
       "      <th>...</th>\n",
       "      <td>...</td>\n",
       "      <td>...</td>\n",
       "      <td>...</td>\n",
       "      <td>...</td>\n",
       "      <td>...</td>\n",
       "      <td>...</td>\n",
       "      <td>...</td>\n",
       "      <td>...</td>\n",
       "      <td>...</td>\n",
       "      <td>...</td>\n",
       "      <td>...</td>\n",
       "      <td>...</td>\n",
       "      <td>...</td>\n",
       "      <td>...</td>\n",
       "      <td>...</td>\n",
       "      <td>...</td>\n",
       "      <td>...</td>\n",
       "      <td>...</td>\n",
       "      <td>...</td>\n",
       "      <td>...</td>\n",
       "      <td>...</td>\n",
       "    </tr>\n",
       "    <tr>\n",
       "      <th>1745</th>\n",
       "      <td>666049248165822465</td>\n",
       "      <td>111</td>\n",
       "      <td>41</td>\n",
       "      <td>Mon Nov 16 00:24:50 +0000 2015</td>\n",
       "      <td>NaN</td>\n",
       "      <td>NaN</td>\n",
       "      <td>2015-11-16 00:24:50 +0000</td>\n",
       "      <td>&lt;a href=\"http://twitter.com/download/iphone\" r...</td>\n",
       "      <td>Here we have a 1949 1st generation vulpix. Enj...</td>\n",
       "      <td>NaN</td>\n",
       "      <td>...</td>\n",
       "      <td>5</td>\n",
       "      <td>10</td>\n",
       "      <td>None</td>\n",
       "      <td>None</td>\n",
       "      <td>None</td>\n",
       "      <td>None</td>\n",
       "      <td>None</td>\n",
       "      <td>https://pbs.twimg.com/media/CT5IQmsXIAAKY4A.jpg</td>\n",
       "      <td>1</td>\n",
       "      <td>miniature_pinscher</td>\n",
       "    </tr>\n",
       "    <tr>\n",
       "      <th>1746</th>\n",
       "      <td>666044226329800704</td>\n",
       "      <td>311</td>\n",
       "      <td>147</td>\n",
       "      <td>Mon Nov 16 00:04:52 +0000 2015</td>\n",
       "      <td>NaN</td>\n",
       "      <td>NaN</td>\n",
       "      <td>2015-11-16 00:04:52 +0000</td>\n",
       "      <td>&lt;a href=\"http://twitter.com/download/iphone\" r...</td>\n",
       "      <td>This is a purebred Piers Morgan. Loves to Netf...</td>\n",
       "      <td>NaN</td>\n",
       "      <td>...</td>\n",
       "      <td>6</td>\n",
       "      <td>10</td>\n",
       "      <td>a</td>\n",
       "      <td>None</td>\n",
       "      <td>None</td>\n",
       "      <td>None</td>\n",
       "      <td>None</td>\n",
       "      <td>https://pbs.twimg.com/media/CT5Dr8HUEAA-lEu.jpg</td>\n",
       "      <td>1</td>\n",
       "      <td>Rhodesian_ridgeback</td>\n",
       "    </tr>\n",
       "    <tr>\n",
       "      <th>1747</th>\n",
       "      <td>666033412701032449</td>\n",
       "      <td>128</td>\n",
       "      <td>47</td>\n",
       "      <td>Sun Nov 15 23:21:54 +0000 2015</td>\n",
       "      <td>NaN</td>\n",
       "      <td>NaN</td>\n",
       "      <td>2015-11-15 23:21:54 +0000</td>\n",
       "      <td>&lt;a href=\"http://twitter.com/download/iphone\" r...</td>\n",
       "      <td>Here is a very happy pup. Big fan of well-main...</td>\n",
       "      <td>NaN</td>\n",
       "      <td>...</td>\n",
       "      <td>9</td>\n",
       "      <td>10</td>\n",
       "      <td>a</td>\n",
       "      <td>None</td>\n",
       "      <td>None</td>\n",
       "      <td>None</td>\n",
       "      <td>None</td>\n",
       "      <td>https://pbs.twimg.com/media/CT4521TWwAEvMyu.jpg</td>\n",
       "      <td>1</td>\n",
       "      <td>German_shepherd</td>\n",
       "    </tr>\n",
       "    <tr>\n",
       "      <th>1748</th>\n",
       "      <td>666029285002620928</td>\n",
       "      <td>132</td>\n",
       "      <td>48</td>\n",
       "      <td>Sun Nov 15 23:05:30 +0000 2015</td>\n",
       "      <td>NaN</td>\n",
       "      <td>NaN</td>\n",
       "      <td>2015-11-15 23:05:30 +0000</td>\n",
       "      <td>&lt;a href=\"http://twitter.com/download/iphone\" r...</td>\n",
       "      <td>This is a western brown Mitsubishi terrier. Up...</td>\n",
       "      <td>NaN</td>\n",
       "      <td>...</td>\n",
       "      <td>7</td>\n",
       "      <td>10</td>\n",
       "      <td>a</td>\n",
       "      <td>None</td>\n",
       "      <td>None</td>\n",
       "      <td>None</td>\n",
       "      <td>None</td>\n",
       "      <td>https://pbs.twimg.com/media/CT42GRgUYAA5iDo.jpg</td>\n",
       "      <td>1</td>\n",
       "      <td>redbone</td>\n",
       "    </tr>\n",
       "    <tr>\n",
       "      <th>1749</th>\n",
       "      <td>666020888022790149</td>\n",
       "      <td>2535</td>\n",
       "      <td>532</td>\n",
       "      <td>Sun Nov 15 22:32:08 +0000 2015</td>\n",
       "      <td>NaN</td>\n",
       "      <td>NaN</td>\n",
       "      <td>2015-11-15 22:32:08 +0000</td>\n",
       "      <td>&lt;a href=\"http://twitter.com/download/iphone\" r...</td>\n",
       "      <td>Here we have a Japanese Irish Setter. Lost eye...</td>\n",
       "      <td>NaN</td>\n",
       "      <td>...</td>\n",
       "      <td>8</td>\n",
       "      <td>10</td>\n",
       "      <td>None</td>\n",
       "      <td>None</td>\n",
       "      <td>None</td>\n",
       "      <td>None</td>\n",
       "      <td>None</td>\n",
       "      <td>https://pbs.twimg.com/media/CT4udn0WwAA0aMy.jpg</td>\n",
       "      <td>1</td>\n",
       "      <td>Welsh_springer_spaniel</td>\n",
       "    </tr>\n",
       "  </tbody>\n",
       "</table>\n",
       "<p>1750 rows × 23 columns</p>\n",
       "</div>"
      ],
      "text/plain": [
       "                tweet_id  favorites  retweets                     timestamp_x  \\\n",
       "0     892177421306343426      33819      6514  Tue Aug 01 00:17:27 +0000 2017   \n",
       "1     891815181378084864      25461      4328  Mon Jul 31 00:18:03 +0000 2017   \n",
       "2     891689557279858688      42908      8964  Sun Jul 30 15:58:51 +0000 2017   \n",
       "3     891327558926688256      41048      9774  Sat Jul 29 16:00:24 +0000 2017   \n",
       "4     891087950875897856      20562      3261  Sat Jul 29 00:08:17 +0000 2017   \n",
       "...                  ...        ...       ...                             ...   \n",
       "1745  666049248165822465        111        41  Mon Nov 16 00:24:50 +0000 2015   \n",
       "1746  666044226329800704        311       147  Mon Nov 16 00:04:52 +0000 2015   \n",
       "1747  666033412701032449        128        47  Sun Nov 15 23:21:54 +0000 2015   \n",
       "1748  666029285002620928        132        48  Sun Nov 15 23:05:30 +0000 2015   \n",
       "1749  666020888022790149       2535       532  Sun Nov 15 22:32:08 +0000 2015   \n",
       "\n",
       "      in_reply_to_status_id  in_reply_to_user_id                timestamp_y  \\\n",
       "0                       NaN                  NaN  2017-08-01 00:17:27 +0000   \n",
       "1                       NaN                  NaN  2017-07-31 00:18:03 +0000   \n",
       "2                       NaN                  NaN  2017-07-30 15:58:51 +0000   \n",
       "3                       NaN                  NaN  2017-07-29 16:00:24 +0000   \n",
       "4                       NaN                  NaN  2017-07-29 00:08:17 +0000   \n",
       "...                     ...                  ...                        ...   \n",
       "1745                    NaN                  NaN  2015-11-16 00:24:50 +0000   \n",
       "1746                    NaN                  NaN  2015-11-16 00:04:52 +0000   \n",
       "1747                    NaN                  NaN  2015-11-15 23:21:54 +0000   \n",
       "1748                    NaN                  NaN  2015-11-15 23:05:30 +0000   \n",
       "1749                    NaN                  NaN  2015-11-15 22:32:08 +0000   \n",
       "\n",
       "                                                 source  \\\n",
       "0     <a href=\"http://twitter.com/download/iphone\" r...   \n",
       "1     <a href=\"http://twitter.com/download/iphone\" r...   \n",
       "2     <a href=\"http://twitter.com/download/iphone\" r...   \n",
       "3     <a href=\"http://twitter.com/download/iphone\" r...   \n",
       "4     <a href=\"http://twitter.com/download/iphone\" r...   \n",
       "...                                                 ...   \n",
       "1745  <a href=\"http://twitter.com/download/iphone\" r...   \n",
       "1746  <a href=\"http://twitter.com/download/iphone\" r...   \n",
       "1747  <a href=\"http://twitter.com/download/iphone\" r...   \n",
       "1748  <a href=\"http://twitter.com/download/iphone\" r...   \n",
       "1749  <a href=\"http://twitter.com/download/iphone\" r...   \n",
       "\n",
       "                                                   text  retweeted_status_id  \\\n",
       "0     This is Tilly. She's just checking pup on you....                  NaN   \n",
       "1     This is Archie. He is a rare Norwegian Pouncin...                  NaN   \n",
       "2     This is Darla. She commenced a snooze mid meal...                  NaN   \n",
       "3     This is Franklin. He would like you to stop ca...                  NaN   \n",
       "4     Here we have a majestic great white breaching ...                  NaN   \n",
       "...                                                 ...                  ...   \n",
       "1745  Here we have a 1949 1st generation vulpix. Enj...                  NaN   \n",
       "1746  This is a purebred Piers Morgan. Loves to Netf...                  NaN   \n",
       "1747  Here is a very happy pup. Big fan of well-main...                  NaN   \n",
       "1748  This is a western brown Mitsubishi terrier. Up...                  NaN   \n",
       "1749  Here we have a Japanese Irish Setter. Lost eye...                  NaN   \n",
       "\n",
       "      ...  rating_numerator rating_denominator      name  doggo  floofer  \\\n",
       "0     ...                13                 10     Tilly   None     None   \n",
       "1     ...                12                 10    Archie   None     None   \n",
       "2     ...                13                 10     Darla   None     None   \n",
       "3     ...                12                 10  Franklin   None     None   \n",
       "4     ...                13                 10      None   None     None   \n",
       "...   ...               ...                ...       ...    ...      ...   \n",
       "1745  ...                 5                 10      None   None     None   \n",
       "1746  ...                 6                 10         a   None     None   \n",
       "1747  ...                 9                 10         a   None     None   \n",
       "1748  ...                 7                 10         a   None     None   \n",
       "1749  ...                 8                 10      None   None     None   \n",
       "\n",
       "     pupper puppo                                          jpg_url img_num  \\\n",
       "0      None  None  https://pbs.twimg.com/media/DGGmoV4XsAAUL6n.jpg       1   \n",
       "1      None  None  https://pbs.twimg.com/media/DGBdLU1WsAANxJ9.jpg       1   \n",
       "2      None  None  https://pbs.twimg.com/media/DF_q7IAWsAEuuN8.jpg       1   \n",
       "3      None  None  https://pbs.twimg.com/media/DF6hr6BUMAAzZgT.jpg       2   \n",
       "4      None  None  https://pbs.twimg.com/media/DF3HwyEWsAABqE6.jpg       1   \n",
       "...     ...   ...                                              ...     ...   \n",
       "1745   None  None  https://pbs.twimg.com/media/CT5IQmsXIAAKY4A.jpg       1   \n",
       "1746   None  None  https://pbs.twimg.com/media/CT5Dr8HUEAA-lEu.jpg       1   \n",
       "1747   None  None  https://pbs.twimg.com/media/CT4521TWwAEvMyu.jpg       1   \n",
       "1748   None  None  https://pbs.twimg.com/media/CT42GRgUYAA5iDo.jpg       1   \n",
       "1749   None  None  https://pbs.twimg.com/media/CT4udn0WwAA0aMy.jpg       1   \n",
       "\n",
       "                         breed  \n",
       "0                    Chihuahua  \n",
       "1                    Chihuahua  \n",
       "2           Labrador_retriever  \n",
       "3                       basset  \n",
       "4     Chesapeake_Bay_retriever  \n",
       "...                        ...  \n",
       "1745        miniature_pinscher  \n",
       "1746       Rhodesian_ridgeback  \n",
       "1747           German_shepherd  \n",
       "1748                   redbone  \n",
       "1749    Welsh_springer_spaniel  \n",
       "\n",
       "[1750 rows x 23 columns]"
      ]
     },
     "execution_count": 861,
     "metadata": {},
     "output_type": "execute_result"
    }
   ],
   "source": [
    "df_clean"
   ]
  },
  {
   "cell_type": "markdown",
   "metadata": {},
   "source": [
    "#### <font color = blue> `tweet_id` is duplicated across all three dfs and `timestamp` is duplicated across `attr_df` and `archive_df`\n",
    " </font>\n",
    " \n",
    "##### Define\n",
    "*`tweet_id` was removed by the merge above. Drop the duplicate `timestamp` columns and rename timestamp_x. While I'm at it I'm going to drop `in_reply_to_status_id`, `in_reply_to_user_id` and `source` since I won't use those in analysis and the df is a bit unwieldly*"
   ]
  },
  {
   "cell_type": "markdown",
   "metadata": {},
   "source": [
    "##### Code"
   ]
  },
  {
   "cell_type": "code",
   "execution_count": 862,
   "metadata": {},
   "outputs": [],
   "source": [
    "df_clean.drop(['in_reply_to_status_id', 'timestamp_y', 'in_reply_to_user_id', 'source'], axis=1, inplace = True)"
   ]
  },
  {
   "cell_type": "code",
   "execution_count": 863,
   "metadata": {},
   "outputs": [
    {
     "data": {
      "text/html": [
       "<div>\n",
       "<style scoped>\n",
       "    .dataframe tbody tr th:only-of-type {\n",
       "        vertical-align: middle;\n",
       "    }\n",
       "\n",
       "    .dataframe tbody tr th {\n",
       "        vertical-align: top;\n",
       "    }\n",
       "\n",
       "    .dataframe thead th {\n",
       "        text-align: right;\n",
       "    }\n",
       "</style>\n",
       "<table border=\"1\" class=\"dataframe\">\n",
       "  <thead>\n",
       "    <tr style=\"text-align: right;\">\n",
       "      <th></th>\n",
       "      <th>tweet_id</th>\n",
       "      <th>favorites</th>\n",
       "      <th>retweets</th>\n",
       "      <th>timestamp_x</th>\n",
       "      <th>text</th>\n",
       "      <th>retweeted_status_id</th>\n",
       "      <th>retweeted_status_user_id</th>\n",
       "      <th>retweeted_status_timestamp</th>\n",
       "      <th>expanded_urls</th>\n",
       "      <th>rating_numerator</th>\n",
       "      <th>rating_denominator</th>\n",
       "      <th>name</th>\n",
       "      <th>doggo</th>\n",
       "      <th>floofer</th>\n",
       "      <th>pupper</th>\n",
       "      <th>puppo</th>\n",
       "      <th>jpg_url</th>\n",
       "      <th>img_num</th>\n",
       "      <th>breed</th>\n",
       "    </tr>\n",
       "  </thead>\n",
       "  <tbody>\n",
       "    <tr>\n",
       "      <th>0</th>\n",
       "      <td>892177421306343426</td>\n",
       "      <td>33819</td>\n",
       "      <td>6514</td>\n",
       "      <td>Tue Aug 01 00:17:27 +0000 2017</td>\n",
       "      <td>This is Tilly. She's just checking pup on you....</td>\n",
       "      <td>NaN</td>\n",
       "      <td>NaN</td>\n",
       "      <td>NaN</td>\n",
       "      <td>https://twitter.com/dog_rates/status/892177421...</td>\n",
       "      <td>13</td>\n",
       "      <td>10</td>\n",
       "      <td>Tilly</td>\n",
       "      <td>None</td>\n",
       "      <td>None</td>\n",
       "      <td>None</td>\n",
       "      <td>None</td>\n",
       "      <td>https://pbs.twimg.com/media/DGGmoV4XsAAUL6n.jpg</td>\n",
       "      <td>1</td>\n",
       "      <td>Chihuahua</td>\n",
       "    </tr>\n",
       "    <tr>\n",
       "      <th>1</th>\n",
       "      <td>891815181378084864</td>\n",
       "      <td>25461</td>\n",
       "      <td>4328</td>\n",
       "      <td>Mon Jul 31 00:18:03 +0000 2017</td>\n",
       "      <td>This is Archie. He is a rare Norwegian Pouncin...</td>\n",
       "      <td>NaN</td>\n",
       "      <td>NaN</td>\n",
       "      <td>NaN</td>\n",
       "      <td>https://twitter.com/dog_rates/status/891815181...</td>\n",
       "      <td>12</td>\n",
       "      <td>10</td>\n",
       "      <td>Archie</td>\n",
       "      <td>None</td>\n",
       "      <td>None</td>\n",
       "      <td>None</td>\n",
       "      <td>None</td>\n",
       "      <td>https://pbs.twimg.com/media/DGBdLU1WsAANxJ9.jpg</td>\n",
       "      <td>1</td>\n",
       "      <td>Chihuahua</td>\n",
       "    </tr>\n",
       "  </tbody>\n",
       "</table>\n",
       "</div>"
      ],
      "text/plain": [
       "             tweet_id  favorites  retweets                     timestamp_x  \\\n",
       "0  892177421306343426      33819      6514  Tue Aug 01 00:17:27 +0000 2017   \n",
       "1  891815181378084864      25461      4328  Mon Jul 31 00:18:03 +0000 2017   \n",
       "\n",
       "                                                text  retweeted_status_id  \\\n",
       "0  This is Tilly. She's just checking pup on you....                  NaN   \n",
       "1  This is Archie. He is a rare Norwegian Pouncin...                  NaN   \n",
       "\n",
       "   retweeted_status_user_id retweeted_status_timestamp  \\\n",
       "0                       NaN                        NaN   \n",
       "1                       NaN                        NaN   \n",
       "\n",
       "                                       expanded_urls  rating_numerator  \\\n",
       "0  https://twitter.com/dog_rates/status/892177421...                13   \n",
       "1  https://twitter.com/dog_rates/status/891815181...                12   \n",
       "\n",
       "   rating_denominator    name doggo floofer pupper puppo  \\\n",
       "0                  10   Tilly  None    None   None  None   \n",
       "1                  10  Archie  None    None   None  None   \n",
       "\n",
       "                                           jpg_url  img_num      breed  \n",
       "0  https://pbs.twimg.com/media/DGGmoV4XsAAUL6n.jpg        1  Chihuahua  \n",
       "1  https://pbs.twimg.com/media/DGBdLU1WsAANxJ9.jpg        1  Chihuahua  "
      ]
     },
     "execution_count": 863,
     "metadata": {},
     "output_type": "execute_result"
    }
   ],
   "source": [
    "df_clean[:2]"
   ]
  },
  {
   "cell_type": "code",
   "execution_count": 864,
   "metadata": {},
   "outputs": [],
   "source": [
    "df_clean.rename(columns={\"timestamp_x\": \"timestamp\"}, inplace=True)"
   ]
  },
  {
   "cell_type": "markdown",
   "metadata": {},
   "source": [
    "##### Test"
   ]
  },
  {
   "cell_type": "markdown",
   "metadata": {},
   "source": [
    "### Quality"
   ]
  },
  {
   "cell_type": "markdown",
   "metadata": {},
   "source": [
    "#### <font color = blue> There are retweets in the `archive_df` that need to be removed. </font>\n",
    "##### Define\n",
    "*Filter the dataframe for retweets and delete them*"
   ]
  },
  {
   "cell_type": "markdown",
   "metadata": {},
   "source": [
    "##### Code"
   ]
  },
  {
   "cell_type": "code",
   "execution_count": 865,
   "metadata": {},
   "outputs": [],
   "source": [
    "# Because each retweet has a status_id and the rest (original tweets) are NaN, we can filter for that\n",
    "# This makes a Boolean series of rows with NaN for retweeted_status, ie the NOT retweets\n",
    "not_na = df_clean.retweeted_status_id.isnull()"
   ]
  },
  {
   "cell_type": "code",
   "execution_count": 866,
   "metadata": {},
   "outputs": [],
   "source": [
    "# recast the dataframe using that Boolean series as index thus dropping the retweetes (the NOT NaNs)\n",
    "df_clean = df_clean.iloc[not_na[not_na].index.tolist()].reset_index(drop=True)"
   ]
  },
  {
   "cell_type": "code",
   "execution_count": 867,
   "metadata": {},
   "outputs": [],
   "source": [
    "# And get rid of the associated reweet columns now as well\n",
    "df_clean = df_clean.drop(['retweeted_status_id', 'retweeted_status_user_id', 'retweeted_status_timestamp'], axis=1)"
   ]
  },
  {
   "cell_type": "markdown",
   "metadata": {},
   "source": [
    "##### Test"
   ]
  },
  {
   "cell_type": "code",
   "execution_count": 868,
   "metadata": {},
   "outputs": [
    {
     "data": {
      "text/html": [
       "<div>\n",
       "<style scoped>\n",
       "    .dataframe tbody tr th:only-of-type {\n",
       "        vertical-align: middle;\n",
       "    }\n",
       "\n",
       "    .dataframe tbody tr th {\n",
       "        vertical-align: top;\n",
       "    }\n",
       "\n",
       "    .dataframe thead th {\n",
       "        text-align: right;\n",
       "    }\n",
       "</style>\n",
       "<table border=\"1\" class=\"dataframe\">\n",
       "  <thead>\n",
       "    <tr style=\"text-align: right;\">\n",
       "      <th></th>\n",
       "      <th>tweet_id</th>\n",
       "      <th>favorites</th>\n",
       "      <th>retweets</th>\n",
       "      <th>timestamp</th>\n",
       "      <th>text</th>\n",
       "      <th>expanded_urls</th>\n",
       "      <th>rating_numerator</th>\n",
       "      <th>rating_denominator</th>\n",
       "      <th>name</th>\n",
       "      <th>doggo</th>\n",
       "      <th>floofer</th>\n",
       "      <th>pupper</th>\n",
       "      <th>puppo</th>\n",
       "      <th>jpg_url</th>\n",
       "      <th>img_num</th>\n",
       "      <th>breed</th>\n",
       "    </tr>\n",
       "  </thead>\n",
       "  <tbody>\n",
       "    <tr>\n",
       "      <th>0</th>\n",
       "      <td>892177421306343426</td>\n",
       "      <td>33819</td>\n",
       "      <td>6514</td>\n",
       "      <td>Tue Aug 01 00:17:27 +0000 2017</td>\n",
       "      <td>This is Tilly. She's just checking pup on you....</td>\n",
       "      <td>https://twitter.com/dog_rates/status/892177421...</td>\n",
       "      <td>13</td>\n",
       "      <td>10</td>\n",
       "      <td>Tilly</td>\n",
       "      <td>None</td>\n",
       "      <td>None</td>\n",
       "      <td>None</td>\n",
       "      <td>None</td>\n",
       "      <td>https://pbs.twimg.com/media/DGGmoV4XsAAUL6n.jpg</td>\n",
       "      <td>1</td>\n",
       "      <td>Chihuahua</td>\n",
       "    </tr>\n",
       "    <tr>\n",
       "      <th>1</th>\n",
       "      <td>891815181378084864</td>\n",
       "      <td>25461</td>\n",
       "      <td>4328</td>\n",
       "      <td>Mon Jul 31 00:18:03 +0000 2017</td>\n",
       "      <td>This is Archie. He is a rare Norwegian Pouncin...</td>\n",
       "      <td>https://twitter.com/dog_rates/status/891815181...</td>\n",
       "      <td>12</td>\n",
       "      <td>10</td>\n",
       "      <td>Archie</td>\n",
       "      <td>None</td>\n",
       "      <td>None</td>\n",
       "      <td>None</td>\n",
       "      <td>None</td>\n",
       "      <td>https://pbs.twimg.com/media/DGBdLU1WsAANxJ9.jpg</td>\n",
       "      <td>1</td>\n",
       "      <td>Chihuahua</td>\n",
       "    </tr>\n",
       "    <tr>\n",
       "      <th>2</th>\n",
       "      <td>891689557279858688</td>\n",
       "      <td>42908</td>\n",
       "      <td>8964</td>\n",
       "      <td>Sun Jul 30 15:58:51 +0000 2017</td>\n",
       "      <td>This is Darla. She commenced a snooze mid meal...</td>\n",
       "      <td>https://twitter.com/dog_rates/status/891689557...</td>\n",
       "      <td>13</td>\n",
       "      <td>10</td>\n",
       "      <td>Darla</td>\n",
       "      <td>None</td>\n",
       "      <td>None</td>\n",
       "      <td>None</td>\n",
       "      <td>None</td>\n",
       "      <td>https://pbs.twimg.com/media/DF_q7IAWsAEuuN8.jpg</td>\n",
       "      <td>1</td>\n",
       "      <td>Labrador_retriever</td>\n",
       "    </tr>\n",
       "    <tr>\n",
       "      <th>3</th>\n",
       "      <td>891327558926688256</td>\n",
       "      <td>41048</td>\n",
       "      <td>9774</td>\n",
       "      <td>Sat Jul 29 16:00:24 +0000 2017</td>\n",
       "      <td>This is Franklin. He would like you to stop ca...</td>\n",
       "      <td>https://twitter.com/dog_rates/status/891327558...</td>\n",
       "      <td>12</td>\n",
       "      <td>10</td>\n",
       "      <td>Franklin</td>\n",
       "      <td>None</td>\n",
       "      <td>None</td>\n",
       "      <td>None</td>\n",
       "      <td>None</td>\n",
       "      <td>https://pbs.twimg.com/media/DF6hr6BUMAAzZgT.jpg</td>\n",
       "      <td>2</td>\n",
       "      <td>basset</td>\n",
       "    </tr>\n",
       "    <tr>\n",
       "      <th>4</th>\n",
       "      <td>891087950875897856</td>\n",
       "      <td>20562</td>\n",
       "      <td>3261</td>\n",
       "      <td>Sat Jul 29 00:08:17 +0000 2017</td>\n",
       "      <td>Here we have a majestic great white breaching ...</td>\n",
       "      <td>https://twitter.com/dog_rates/status/891087950...</td>\n",
       "      <td>13</td>\n",
       "      <td>10</td>\n",
       "      <td>None</td>\n",
       "      <td>None</td>\n",
       "      <td>None</td>\n",
       "      <td>None</td>\n",
       "      <td>None</td>\n",
       "      <td>https://pbs.twimg.com/media/DF3HwyEWsAABqE6.jpg</td>\n",
       "      <td>1</td>\n",
       "      <td>Chesapeake_Bay_retriever</td>\n",
       "    </tr>\n",
       "    <tr>\n",
       "      <th>...</th>\n",
       "      <td>...</td>\n",
       "      <td>...</td>\n",
       "      <td>...</td>\n",
       "      <td>...</td>\n",
       "      <td>...</td>\n",
       "      <td>...</td>\n",
       "      <td>...</td>\n",
       "      <td>...</td>\n",
       "      <td>...</td>\n",
       "      <td>...</td>\n",
       "      <td>...</td>\n",
       "      <td>...</td>\n",
       "      <td>...</td>\n",
       "      <td>...</td>\n",
       "      <td>...</td>\n",
       "      <td>...</td>\n",
       "    </tr>\n",
       "    <tr>\n",
       "      <th>1681</th>\n",
       "      <td>666049248165822465</td>\n",
       "      <td>111</td>\n",
       "      <td>41</td>\n",
       "      <td>Mon Nov 16 00:24:50 +0000 2015</td>\n",
       "      <td>Here we have a 1949 1st generation vulpix. Enj...</td>\n",
       "      <td>https://twitter.com/dog_rates/status/666049248...</td>\n",
       "      <td>5</td>\n",
       "      <td>10</td>\n",
       "      <td>None</td>\n",
       "      <td>None</td>\n",
       "      <td>None</td>\n",
       "      <td>None</td>\n",
       "      <td>None</td>\n",
       "      <td>https://pbs.twimg.com/media/CT5IQmsXIAAKY4A.jpg</td>\n",
       "      <td>1</td>\n",
       "      <td>miniature_pinscher</td>\n",
       "    </tr>\n",
       "    <tr>\n",
       "      <th>1682</th>\n",
       "      <td>666044226329800704</td>\n",
       "      <td>311</td>\n",
       "      <td>147</td>\n",
       "      <td>Mon Nov 16 00:04:52 +0000 2015</td>\n",
       "      <td>This is a purebred Piers Morgan. Loves to Netf...</td>\n",
       "      <td>https://twitter.com/dog_rates/status/666044226...</td>\n",
       "      <td>6</td>\n",
       "      <td>10</td>\n",
       "      <td>a</td>\n",
       "      <td>None</td>\n",
       "      <td>None</td>\n",
       "      <td>None</td>\n",
       "      <td>None</td>\n",
       "      <td>https://pbs.twimg.com/media/CT5Dr8HUEAA-lEu.jpg</td>\n",
       "      <td>1</td>\n",
       "      <td>Rhodesian_ridgeback</td>\n",
       "    </tr>\n",
       "    <tr>\n",
       "      <th>1683</th>\n",
       "      <td>666033412701032449</td>\n",
       "      <td>128</td>\n",
       "      <td>47</td>\n",
       "      <td>Sun Nov 15 23:21:54 +0000 2015</td>\n",
       "      <td>Here is a very happy pup. Big fan of well-main...</td>\n",
       "      <td>https://twitter.com/dog_rates/status/666033412...</td>\n",
       "      <td>9</td>\n",
       "      <td>10</td>\n",
       "      <td>a</td>\n",
       "      <td>None</td>\n",
       "      <td>None</td>\n",
       "      <td>None</td>\n",
       "      <td>None</td>\n",
       "      <td>https://pbs.twimg.com/media/CT4521TWwAEvMyu.jpg</td>\n",
       "      <td>1</td>\n",
       "      <td>German_shepherd</td>\n",
       "    </tr>\n",
       "    <tr>\n",
       "      <th>1684</th>\n",
       "      <td>666029285002620928</td>\n",
       "      <td>132</td>\n",
       "      <td>48</td>\n",
       "      <td>Sun Nov 15 23:05:30 +0000 2015</td>\n",
       "      <td>This is a western brown Mitsubishi terrier. Up...</td>\n",
       "      <td>https://twitter.com/dog_rates/status/666029285...</td>\n",
       "      <td>7</td>\n",
       "      <td>10</td>\n",
       "      <td>a</td>\n",
       "      <td>None</td>\n",
       "      <td>None</td>\n",
       "      <td>None</td>\n",
       "      <td>None</td>\n",
       "      <td>https://pbs.twimg.com/media/CT42GRgUYAA5iDo.jpg</td>\n",
       "      <td>1</td>\n",
       "      <td>redbone</td>\n",
       "    </tr>\n",
       "    <tr>\n",
       "      <th>1685</th>\n",
       "      <td>666020888022790149</td>\n",
       "      <td>2535</td>\n",
       "      <td>532</td>\n",
       "      <td>Sun Nov 15 22:32:08 +0000 2015</td>\n",
       "      <td>Here we have a Japanese Irish Setter. Lost eye...</td>\n",
       "      <td>https://twitter.com/dog_rates/status/666020888...</td>\n",
       "      <td>8</td>\n",
       "      <td>10</td>\n",
       "      <td>None</td>\n",
       "      <td>None</td>\n",
       "      <td>None</td>\n",
       "      <td>None</td>\n",
       "      <td>None</td>\n",
       "      <td>https://pbs.twimg.com/media/CT4udn0WwAA0aMy.jpg</td>\n",
       "      <td>1</td>\n",
       "      <td>Welsh_springer_spaniel</td>\n",
       "    </tr>\n",
       "  </tbody>\n",
       "</table>\n",
       "<p>1686 rows × 16 columns</p>\n",
       "</div>"
      ],
      "text/plain": [
       "                tweet_id  favorites  retweets                       timestamp  \\\n",
       "0     892177421306343426      33819      6514  Tue Aug 01 00:17:27 +0000 2017   \n",
       "1     891815181378084864      25461      4328  Mon Jul 31 00:18:03 +0000 2017   \n",
       "2     891689557279858688      42908      8964  Sun Jul 30 15:58:51 +0000 2017   \n",
       "3     891327558926688256      41048      9774  Sat Jul 29 16:00:24 +0000 2017   \n",
       "4     891087950875897856      20562      3261  Sat Jul 29 00:08:17 +0000 2017   \n",
       "...                  ...        ...       ...                             ...   \n",
       "1681  666049248165822465        111        41  Mon Nov 16 00:24:50 +0000 2015   \n",
       "1682  666044226329800704        311       147  Mon Nov 16 00:04:52 +0000 2015   \n",
       "1683  666033412701032449        128        47  Sun Nov 15 23:21:54 +0000 2015   \n",
       "1684  666029285002620928        132        48  Sun Nov 15 23:05:30 +0000 2015   \n",
       "1685  666020888022790149       2535       532  Sun Nov 15 22:32:08 +0000 2015   \n",
       "\n",
       "                                                   text  \\\n",
       "0     This is Tilly. She's just checking pup on you....   \n",
       "1     This is Archie. He is a rare Norwegian Pouncin...   \n",
       "2     This is Darla. She commenced a snooze mid meal...   \n",
       "3     This is Franklin. He would like you to stop ca...   \n",
       "4     Here we have a majestic great white breaching ...   \n",
       "...                                                 ...   \n",
       "1681  Here we have a 1949 1st generation vulpix. Enj...   \n",
       "1682  This is a purebred Piers Morgan. Loves to Netf...   \n",
       "1683  Here is a very happy pup. Big fan of well-main...   \n",
       "1684  This is a western brown Mitsubishi terrier. Up...   \n",
       "1685  Here we have a Japanese Irish Setter. Lost eye...   \n",
       "\n",
       "                                          expanded_urls  rating_numerator  \\\n",
       "0     https://twitter.com/dog_rates/status/892177421...                13   \n",
       "1     https://twitter.com/dog_rates/status/891815181...                12   \n",
       "2     https://twitter.com/dog_rates/status/891689557...                13   \n",
       "3     https://twitter.com/dog_rates/status/891327558...                12   \n",
       "4     https://twitter.com/dog_rates/status/891087950...                13   \n",
       "...                                                 ...               ...   \n",
       "1681  https://twitter.com/dog_rates/status/666049248...                 5   \n",
       "1682  https://twitter.com/dog_rates/status/666044226...                 6   \n",
       "1683  https://twitter.com/dog_rates/status/666033412...                 9   \n",
       "1684  https://twitter.com/dog_rates/status/666029285...                 7   \n",
       "1685  https://twitter.com/dog_rates/status/666020888...                 8   \n",
       "\n",
       "      rating_denominator      name doggo floofer pupper puppo  \\\n",
       "0                     10     Tilly  None    None   None  None   \n",
       "1                     10    Archie  None    None   None  None   \n",
       "2                     10     Darla  None    None   None  None   \n",
       "3                     10  Franklin  None    None   None  None   \n",
       "4                     10      None  None    None   None  None   \n",
       "...                  ...       ...   ...     ...    ...   ...   \n",
       "1681                  10      None  None    None   None  None   \n",
       "1682                  10         a  None    None   None  None   \n",
       "1683                  10         a  None    None   None  None   \n",
       "1684                  10         a  None    None   None  None   \n",
       "1685                  10      None  None    None   None  None   \n",
       "\n",
       "                                              jpg_url  img_num  \\\n",
       "0     https://pbs.twimg.com/media/DGGmoV4XsAAUL6n.jpg        1   \n",
       "1     https://pbs.twimg.com/media/DGBdLU1WsAANxJ9.jpg        1   \n",
       "2     https://pbs.twimg.com/media/DF_q7IAWsAEuuN8.jpg        1   \n",
       "3     https://pbs.twimg.com/media/DF6hr6BUMAAzZgT.jpg        2   \n",
       "4     https://pbs.twimg.com/media/DF3HwyEWsAABqE6.jpg        1   \n",
       "...                                               ...      ...   \n",
       "1681  https://pbs.twimg.com/media/CT5IQmsXIAAKY4A.jpg        1   \n",
       "1682  https://pbs.twimg.com/media/CT5Dr8HUEAA-lEu.jpg        1   \n",
       "1683  https://pbs.twimg.com/media/CT4521TWwAEvMyu.jpg        1   \n",
       "1684  https://pbs.twimg.com/media/CT42GRgUYAA5iDo.jpg        1   \n",
       "1685  https://pbs.twimg.com/media/CT4udn0WwAA0aMy.jpg        1   \n",
       "\n",
       "                         breed  \n",
       "0                    Chihuahua  \n",
       "1                    Chihuahua  \n",
       "2           Labrador_retriever  \n",
       "3                       basset  \n",
       "4     Chesapeake_Bay_retriever  \n",
       "...                        ...  \n",
       "1681        miniature_pinscher  \n",
       "1682       Rhodesian_ridgeback  \n",
       "1683           German_shepherd  \n",
       "1684                   redbone  \n",
       "1685    Welsh_springer_spaniel  \n",
       "\n",
       "[1686 rows x 16 columns]"
      ]
     },
     "execution_count": 868,
     "metadata": {},
     "output_type": "execute_result"
    }
   ],
   "source": [
    "df_clean"
   ]
  },
  {
   "cell_type": "markdown",
   "metadata": {},
   "source": [
    "#### <font color = blue> Some dog `name`s are incorrect, e.g. \"a\", \"the\" for \"None\" </font>\n",
    "##### Define\n",
    "*Since the incorrect names are all lowercase, we can use islower() to find them and change them to None*"
   ]
  },
  {
   "cell_type": "markdown",
   "metadata": {},
   "source": [
    "##### Code"
   ]
  },
  {
   "cell_type": "code",
   "execution_count": 869,
   "metadata": {},
   "outputs": [],
   "source": [
    "# Here we will isolate a list of not-names\n",
    "# This is a dataframe of all the names, created with value_counts()\n",
    "notaname = pd.DataFrame(df_clean.name.value_counts())\n",
    "\n",
    "# The index labels that result are the names, we want them in a column\n",
    "notaname.reset_index(level=0, inplace=True)\n",
    "notaname.columns = ['name', 'count']\n",
    "\n",
    "# and then call islower() to make a list of words from the 'name' column that aren't names\n",
    "not_names = [c for c in df_clean.name if c.islower()]"
   ]
  },
  {
   "cell_type": "code",
   "execution_count": 870,
   "metadata": {},
   "outputs": [],
   "source": [
    "# In most cases visual inspection shows that the not_names values usually represent tweets where the text contains\n",
    "# no name, and the use of regex (mapping on to \"This is a\") resulted in an erroneanous name (e.g. reading \"a\" as\n",
    "# the name in \"This is a husky\" because the regex set to filter things like \"This is Max,\" which is the format in most\n",
    "# tweets). So we'll just set the rows with not_names as \"None\"   \n",
    "\n",
    "# Replace any value from not_names list with 'None' and assign to df_clean.name\n",
    "df_clean.name = df_clean.name.replace(not_names, 'None')"
   ]
  },
  {
   "cell_type": "markdown",
   "metadata": {},
   "source": [
    "##### Test"
   ]
  },
  {
   "cell_type": "code",
   "execution_count": 871,
   "metadata": {},
   "outputs": [
    {
     "data": {
      "text/plain": [
       "{'a',\n",
       " 'actually',\n",
       " 'all',\n",
       " 'an',\n",
       " 'getting',\n",
       " 'incredibly',\n",
       " 'infuriating',\n",
       " 'just',\n",
       " 'light',\n",
       " 'my',\n",
       " 'not',\n",
       " 'officially',\n",
       " 'one',\n",
       " 'quite',\n",
       " 'space',\n",
       " 'the',\n",
       " 'unacceptable',\n",
       " 'very'}"
      ]
     },
     "execution_count": 871,
     "metadata": {},
     "output_type": "execute_result"
    }
   ],
   "source": [
    "# We can see that none of these are names\n",
    "set(not_names)"
   ]
  },
  {
   "cell_type": "code",
   "execution_count": 872,
   "metadata": {},
   "outputs": [
    {
     "data": {
      "text/plain": [
       "0"
      ]
     },
     "execution_count": 872,
     "metadata": {},
     "output_type": "execute_result"
    }
   ],
   "source": [
    "# tests that all the not-names have been removed\n",
    "sum(df_clean.name.str.islower())"
   ]
  },
  {
   "cell_type": "markdown",
   "metadata": {},
   "source": [
    "#### <font color = blue> Some of the `rating_denominator`s are not out of 10 </font>\n",
    "##### Define\n",
    "*Drop the denominators that are not 10*"
   ]
  },
  {
   "cell_type": "markdown",
   "metadata": {},
   "source": [
    "##### Code"
   ]
  },
  {
   "cell_type": "code",
   "execution_count": 873,
   "metadata": {},
   "outputs": [],
   "source": [
    "# We need to redefine the list with the new df\n",
    "weird_denom_list = list(df_clean.loc[df_clean['rating_denominator'] != 10].index.values)"
   ]
  },
  {
   "cell_type": "code",
   "execution_count": 874,
   "metadata": {},
   "outputs": [],
   "source": [
    "df_clean = df_clean.drop(weird_denom_list, axis=0).reset_index(drop=True)"
   ]
  },
  {
   "cell_type": "markdown",
   "metadata": {},
   "source": [
    "##### Test"
   ]
  },
  {
   "cell_type": "code",
   "execution_count": 875,
   "metadata": {},
   "outputs": [
    {
     "data": {
      "text/plain": [
       "[]"
      ]
     },
     "execution_count": 875,
     "metadata": {},
     "output_type": "execute_result"
    }
   ],
   "source": [
    "# This is the same code as weird_denom_list, it's now empty\n",
    "test_list = list(df_clean.loc[df_clean['rating_denominator'] != 10].index.values)\n",
    "test_list"
   ]
  },
  {
   "cell_type": "code",
   "execution_count": 876,
   "metadata": {},
   "outputs": [
    {
     "data": {
      "text/plain": [
       "12    423\n",
       "10    360\n",
       "11    356\n",
       "13    229\n",
       "9     132\n",
       "8      68\n",
       "7      31\n",
       "14     23\n",
       "6      16\n",
       "5      14\n",
       "4       6\n",
       "3       5\n",
       "2       2\n",
       "75      1\n",
       "27      1\n",
       "26      1\n",
       "0       1\n",
       "Name: rating_numerator, dtype: int64"
      ]
     },
     "execution_count": 876,
     "metadata": {},
     "output_type": "execute_result"
    }
   ],
   "source": [
    "# Now that we've eliminated weird denominators, let's see if there are any weird numerators left:\n",
    "df_clean.rating_numerator.value_counts()"
   ]
  },
  {
   "cell_type": "code",
   "execution_count": 877,
   "metadata": {},
   "outputs": [
    {
     "data": {
      "text/plain": [
       "[208,\n",
       " 452,\n",
       " 497,\n",
       " 498,\n",
       " 665,\n",
       " 807,\n",
       " 847,\n",
       " 888,\n",
       " 1181,\n",
       " 1189,\n",
       " 1227,\n",
       " 1361,\n",
       " 1455,\n",
       " 1537,\n",
       " 1584,\n",
       " 1614,\n",
       " 1636]"
      ]
     },
     "execution_count": 877,
     "metadata": {},
     "output_type": "execute_result"
    }
   ],
   "source": [
    "# Let's look at the ones that are less than 5 or greather than 15 and make sure those are correct\n",
    "weird_numer_list = list(df_clean.loc[(df_clean['rating_numerator'] > 15) | (df_clean['rating_numerator'] < 5)].index.values)\n",
    "weird_numer_list"
   ]
  },
  {
   "cell_type": "code",
   "execution_count": 878,
   "metadata": {},
   "outputs": [
    {
     "name": "stdout",
     "output_type": "stream",
     "text": [
      "When you're so blinded by your systematic plagiarism that you forget what day it is. 0/10 https://t.co/YbEJPkg4Ag \n",
      " Numerator: 0\n",
      "index is 208\n",
      "This is Logan, the Chow who lived. He solemnly swears he's up to lots of good. H*ckin magical af 9.75/10 https://t.co/yBO5wuqaPS \n",
      " Numerator: 75\n",
      "index is 452\n",
      "This is Sophie. She's a Jubilant Bush Pupper. Super h*ckin rare. Appears at random just to smile at the locals. 11.27/10 would smile back https://t.co/QFaUiIHxHq \n",
      " Numerator: 27\n",
      "index is 497\n",
      "This is Wesley. He's clearly trespassing. Seems rather h*ckin violent too. Weaponized forehead. 3/10 wouldn't let in https://t.co/pL7wbMRW7M \n",
      " Numerator: 3\n",
      "index is 498\n",
      "Viewer discretion is advised. This is a terrible attack in progress. Not even in water (tragic af). 4/10 bad sherk https://t.co/L3U0j14N5R \n",
      " Numerator: 4\n",
      "index is 665\n",
      "This is Alexanderson. He's got a weird ass birth mark. Dreadful at fetch. Won't eat kibble. 3/10 wtf @Target https://t.co/FmxOpf2Sgl \n",
      " Numerator: 3\n",
      "index is 807\n",
      "What hooligan sent in pictures w/out a dog in them? Churlish af. 3/10 just bc that's a neat fluffy bean bag chair https://t.co/wcwoGOkZvz \n",
      " Numerator: 3\n",
      "index is 847\n",
      "This is Keurig. He's a rare dog. Laughs like an idiot tho. Head is basically a weapon. Poorly maintained goatee 4/10 https://t.co/xOrUyj7K30 \n",
      " Numerator: 4\n",
      "index is 888\n",
      "This is Alice. She's an idiot. 4/10 https://t.co/VQXdwJfkyS \n",
      " Numerator: 4\n",
      "index is 1181\n",
      "Here we have uncovered an entire battalion of holiday puppers. Average of 11.26/10 https://t.co/eNm2S6p9BD \n",
      " Numerator: 26\n",
      "index is 1189\n",
      "This is Crystal. She's a shitty fireman. No sense of urgency. People could be dying Crystal. 2/10 just irresponsible https://t.co/rtMtjSl9pz \n",
      " Numerator: 2\n",
      "index is 1227\n",
      "Guys I'm getting real tired of this. We only rate dogs. Please don't send in other things like this Bulbasaur. 3/10 https://t.co/t5rQHl6W8M \n",
      " Numerator: 3\n",
      "index is 1361\n",
      "Two miniature golden retrievers here. Webbed paws. Don't walk very efficiently. Can't catch a tennis ball. 4/10s https://t.co/WzVLdSHJU7 \n",
      " Numerator: 4\n",
      "index is 1455\n",
      "This is Bernie. He's taking his Halloween costume very seriously. Wants to be baked. 3/10 not a good idea Bernie smh https://t.co/1zBp1moFlX \n",
      " Numerator: 3\n",
      "index is 1537\n",
      "This is Tedrick. He lives on the edge. Needs someone to hit the gas tho. Other than that he's a baller. 10&amp;2/10 https://t.co/LvP1TTYSCN \n",
      " Numerator: 2\n",
      "index is 1584\n",
      "These are strange dogs. All have toupees. Long neck for dogs. In a shed of sorts? Work in groups? 4/10 still petable https://t.co/PZxSarAfSN \n",
      " Numerator: 4\n",
      "index is 1614\n",
      "Cool dog. Enjoys couch. Low monotone bark. Very nice kicks. Pisses milk (must be rare). Can't go down stairs. 4/10 https://t.co/vXMKrJC81s \n",
      " Numerator: 4\n",
      "index is 1636\n"
     ]
    }
   ],
   "source": [
    "# We see a couple of places where incorrect values were extracted -- 9.75 becomes 75, 11.27 becomes 27, 11.26 becomes\n",
    "# 26\n",
    "for w in weird_numer_list:\n",
    "    print(df_clean.iloc[w]['text'], '\\n Numerator:', df_clean.rating_numerator.iloc[w])\n",
    "    print(\"index is\", w)"
   ]
  },
  {
   "cell_type": "code",
   "execution_count": 879,
   "metadata": {},
   "outputs": [],
   "source": [
    "# I'll fix that by hand, first the numerator column needs to be a float"
   ]
  },
  {
   "cell_type": "code",
   "execution_count": 880,
   "metadata": {},
   "outputs": [],
   "source": [
    "df_clean.rating_numerator = df_clean.rating_numerator.astype('float64')"
   ]
  },
  {
   "cell_type": "code",
   "execution_count": 881,
   "metadata": {},
   "outputs": [],
   "source": [
    "# 452 -> 9.75\n",
    "# 497 -> 11.27\n",
    "# 1189 -> 11.26\n",
    "df_clean.at[452, 'rating_numerator'] = 9.75\n",
    "df_clean.at[497, 'rating_numerator'] = 11.27\n",
    "df_clean.at[1189, 'rating_numerator'] = 11.26"
   ]
  },
  {
   "cell_type": "code",
   "execution_count": 882,
   "metadata": {},
   "outputs": [
    {
     "data": {
      "text/plain": [
       "(9.75, 11.27, 11.26)"
      ]
     },
     "execution_count": 882,
     "metadata": {},
     "output_type": "execute_result"
    }
   ],
   "source": [
    "# test\n",
    "df_clean.at[452, 'rating_numerator'], df_clean.at[497, 'rating_numerator'], df_clean.at[1189, 'rating_numerator']"
   ]
  },
  {
   "cell_type": "markdown",
   "metadata": {},
   "source": [
    "#### <font color = blue> `tweet_id` is an `int` </font>\n",
    "##### Define\n",
    "*Cast the column to object using `astype()`*"
   ]
  },
  {
   "cell_type": "markdown",
   "metadata": {},
   "source": [
    "##### Code"
   ]
  },
  {
   "cell_type": "code",
   "execution_count": 883,
   "metadata": {},
   "outputs": [],
   "source": [
    "df_clean.tweet_id = df_clean.tweet_id.astype('object')"
   ]
  },
  {
   "cell_type": "code",
   "execution_count": 884,
   "metadata": {},
   "outputs": [
    {
     "name": "stdout",
     "output_type": "stream",
     "text": [
      "<class 'pandas.core.frame.DataFrame'>\n",
      "RangeIndex: 1669 entries, 0 to 1668\n",
      "Data columns (total 16 columns):\n",
      " #   Column              Non-Null Count  Dtype  \n",
      "---  ------              --------------  -----  \n",
      " 0   tweet_id            1669 non-null   object \n",
      " 1   favorites           1669 non-null   int64  \n",
      " 2   retweets            1669 non-null   int64  \n",
      " 3   timestamp           1669 non-null   object \n",
      " 4   text                1669 non-null   object \n",
      " 5   expanded_urls       1669 non-null   object \n",
      " 6   rating_numerator    1669 non-null   float64\n",
      " 7   rating_denominator  1669 non-null   int64  \n",
      " 8   name                1669 non-null   object \n",
      " 9   doggo               1669 non-null   object \n",
      " 10  floofer             1669 non-null   object \n",
      " 11  pupper              1669 non-null   object \n",
      " 12  puppo               1669 non-null   object \n",
      " 13  jpg_url             1669 non-null   object \n",
      " 14  img_num             1669 non-null   int64  \n",
      " 15  breed               1669 non-null   object \n",
      "dtypes: float64(1), int64(4), object(11)\n",
      "memory usage: 208.8+ KB\n"
     ]
    }
   ],
   "source": [
    "df_clean.info()"
   ]
  },
  {
   "cell_type": "markdown",
   "metadata": {},
   "source": [
    "##### Test"
   ]
  },
  {
   "cell_type": "markdown",
   "metadata": {},
   "source": [
    "#### <font color = blue> `timestamp` is a pandas object </font>\n",
    "##### Define\n",
    "*Cast `timestamp` as `datetime64` using `astype()`*"
   ]
  },
  {
   "cell_type": "markdown",
   "metadata": {},
   "source": [
    "##### Code"
   ]
  },
  {
   "cell_type": "code",
   "execution_count": 885,
   "metadata": {},
   "outputs": [],
   "source": [
    "df_clean.timestamp = df_clean.timestamp.astype('datetime64')"
   ]
  },
  {
   "cell_type": "markdown",
   "metadata": {},
   "source": [
    "##### Test"
   ]
  },
  {
   "cell_type": "code",
   "execution_count": 886,
   "metadata": {},
   "outputs": [
    {
     "name": "stdout",
     "output_type": "stream",
     "text": [
      "<class 'pandas.core.frame.DataFrame'>\n",
      "RangeIndex: 1669 entries, 0 to 1668\n",
      "Data columns (total 16 columns):\n",
      " #   Column              Non-Null Count  Dtype         \n",
      "---  ------              --------------  -----         \n",
      " 0   tweet_id            1669 non-null   object        \n",
      " 1   favorites           1669 non-null   int64         \n",
      " 2   retweets            1669 non-null   int64         \n",
      " 3   timestamp           1669 non-null   datetime64[ns]\n",
      " 4   text                1669 non-null   object        \n",
      " 5   expanded_urls       1669 non-null   object        \n",
      " 6   rating_numerator    1669 non-null   float64       \n",
      " 7   rating_denominator  1669 non-null   int64         \n",
      " 8   name                1669 non-null   object        \n",
      " 9   doggo               1669 non-null   object        \n",
      " 10  floofer             1669 non-null   object        \n",
      " 11  pupper              1669 non-null   object        \n",
      " 12  puppo               1669 non-null   object        \n",
      " 13  jpg_url             1669 non-null   object        \n",
      " 14  img_num             1669 non-null   int64         \n",
      " 15  breed               1669 non-null   object        \n",
      "dtypes: datetime64[ns](1), float64(1), int64(4), object(10)\n",
      "memory usage: 208.8+ KB\n"
     ]
    }
   ],
   "source": [
    "df_clean.info()"
   ]
  },
  {
   "cell_type": "markdown",
   "metadata": {},
   "source": [
    "#### <font color = blue> `breed` should be categorical and capitalization made consistent </font>\n",
    "##### Define\n",
    "*Cast breed as `category` using `astype()` and fix the names with `str.capitalize()`*"
   ]
  },
  {
   "cell_type": "markdown",
   "metadata": {},
   "source": [
    "##### Code"
   ]
  },
  {
   "cell_type": "code",
   "execution_count": 887,
   "metadata": {},
   "outputs": [],
   "source": [
    "df_clean.breed = df_clean.breed.astype('category')"
   ]
  },
  {
   "cell_type": "code",
   "execution_count": 888,
   "metadata": {},
   "outputs": [],
   "source": [
    "df_clean.breed = df_clean.breed.str.capitalize()"
   ]
  },
  {
   "cell_type": "markdown",
   "metadata": {},
   "source": [
    "##### Test"
   ]
  },
  {
   "cell_type": "code",
   "execution_count": 889,
   "metadata": {},
   "outputs": [
    {
     "name": "stdout",
     "output_type": "stream",
     "text": [
      "<class 'pandas.core.frame.DataFrame'>\n",
      "RangeIndex: 1669 entries, 0 to 1668\n",
      "Data columns (total 16 columns):\n",
      " #   Column              Non-Null Count  Dtype         \n",
      "---  ------              --------------  -----         \n",
      " 0   tweet_id            1669 non-null   object        \n",
      " 1   favorites           1669 non-null   int64         \n",
      " 2   retweets            1669 non-null   int64         \n",
      " 3   timestamp           1669 non-null   datetime64[ns]\n",
      " 4   text                1669 non-null   object        \n",
      " 5   expanded_urls       1669 non-null   object        \n",
      " 6   rating_numerator    1669 non-null   float64       \n",
      " 7   rating_denominator  1669 non-null   int64         \n",
      " 8   name                1669 non-null   object        \n",
      " 9   doggo               1669 non-null   object        \n",
      " 10  floofer             1669 non-null   object        \n",
      " 11  pupper              1669 non-null   object        \n",
      " 12  puppo               1669 non-null   object        \n",
      " 13  jpg_url             1669 non-null   object        \n",
      " 14  img_num             1669 non-null   int64         \n",
      " 15  breed               1669 non-null   object        \n",
      "dtypes: datetime64[ns](1), float64(1), int64(4), object(10)\n",
      "memory usage: 208.8+ KB\n"
     ]
    }
   ],
   "source": [
    "df_clean.info()"
   ]
  },
  {
   "cell_type": "code",
   "execution_count": 890,
   "metadata": {},
   "outputs": [
    {
     "data": {
      "text/plain": [
       "0"
      ]
     },
     "execution_count": 890,
     "metadata": {},
     "output_type": "execute_result"
    }
   ],
   "source": [
    "sum(df_clean.breed.str.islower())"
   ]
  },
  {
   "cell_type": "markdown",
   "metadata": {},
   "source": [
    "#### <font color = blue> `doggo`, `floofer`, `pupper`, `puppo` should be Booleans instead of pandas objects </font>\n",
    "##### Define\n",
    "*Assign the columns to equivalent Boolean series*"
   ]
  },
  {
   "cell_type": "markdown",
   "metadata": {},
   "source": [
    "##### Code"
   ]
  },
  {
   "cell_type": "code",
   "execution_count": 891,
   "metadata": {},
   "outputs": [
    {
     "data": {
      "text/plain": [
       "64"
      ]
     },
     "execution_count": 891,
     "metadata": {},
     "output_type": "execute_result"
    }
   ],
   "source": [
    "# First we can see how many doggos, for example there are\n",
    "sum(df_clean.doggo == 'doggo')"
   ]
  },
  {
   "cell_type": "code",
   "execution_count": 892,
   "metadata": {},
   "outputs": [],
   "source": [
    "df_clean.doggo = (df_clean.doggo == 'doggo')\n",
    "df_clean.floofer = (df_clean.floofer == 'floofer')\n",
    "df_clean.pupper = (df_clean.pupper == 'pupper')\n",
    "df_clean.puppo = (df_clean.puppo == 'puppo')"
   ]
  },
  {
   "cell_type": "markdown",
   "metadata": {},
   "source": [
    "##### Test"
   ]
  },
  {
   "cell_type": "code",
   "execution_count": 893,
   "metadata": {},
   "outputs": [
    {
     "data": {
      "text/plain": [
       "64"
      ]
     },
     "execution_count": 893,
     "metadata": {},
     "output_type": "execute_result"
    }
   ],
   "source": [
    "# We can now count 64 doggos with the Boolean series\n",
    "sum(df_clean.doggo)"
   ]
  },
  {
   "cell_type": "code",
   "execution_count": 894,
   "metadata": {},
   "outputs": [
    {
     "name": "stdout",
     "output_type": "stream",
     "text": [
      "<class 'pandas.core.frame.DataFrame'>\n",
      "RangeIndex: 1669 entries, 0 to 1668\n",
      "Data columns (total 16 columns):\n",
      " #   Column              Non-Null Count  Dtype         \n",
      "---  ------              --------------  -----         \n",
      " 0   tweet_id            1669 non-null   object        \n",
      " 1   favorites           1669 non-null   int64         \n",
      " 2   retweets            1669 non-null   int64         \n",
      " 3   timestamp           1669 non-null   datetime64[ns]\n",
      " 4   text                1669 non-null   object        \n",
      " 5   expanded_urls       1669 non-null   object        \n",
      " 6   rating_numerator    1669 non-null   float64       \n",
      " 7   rating_denominator  1669 non-null   int64         \n",
      " 8   name                1669 non-null   object        \n",
      " 9   doggo               1669 non-null   bool          \n",
      " 10  floofer             1669 non-null   bool          \n",
      " 11  pupper              1669 non-null   bool          \n",
      " 12  puppo               1669 non-null   bool          \n",
      " 13  jpg_url             1669 non-null   object        \n",
      " 14  img_num             1669 non-null   int64         \n",
      " 15  breed               1669 non-null   object        \n",
      "dtypes: bool(4), datetime64[ns](1), float64(1), int64(4), object(6)\n",
      "memory usage: 163.1+ KB\n"
     ]
    }
   ],
   "source": [
    "df_clean.info()"
   ]
  },
  {
   "cell_type": "code",
   "execution_count": 895,
   "metadata": {},
   "outputs": [
    {
     "data": {
      "text/html": [
       "<div>\n",
       "<style scoped>\n",
       "    .dataframe tbody tr th:only-of-type {\n",
       "        vertical-align: middle;\n",
       "    }\n",
       "\n",
       "    .dataframe tbody tr th {\n",
       "        vertical-align: top;\n",
       "    }\n",
       "\n",
       "    .dataframe thead th {\n",
       "        text-align: right;\n",
       "    }\n",
       "</style>\n",
       "<table border=\"1\" class=\"dataframe\">\n",
       "  <thead>\n",
       "    <tr style=\"text-align: right;\">\n",
       "      <th></th>\n",
       "      <th>tweet_id</th>\n",
       "      <th>favorites</th>\n",
       "      <th>retweets</th>\n",
       "      <th>timestamp</th>\n",
       "      <th>text</th>\n",
       "      <th>expanded_urls</th>\n",
       "      <th>rating_numerator</th>\n",
       "      <th>rating_denominator</th>\n",
       "      <th>name</th>\n",
       "      <th>doggo</th>\n",
       "      <th>floofer</th>\n",
       "      <th>pupper</th>\n",
       "      <th>puppo</th>\n",
       "      <th>jpg_url</th>\n",
       "      <th>img_num</th>\n",
       "      <th>breed</th>\n",
       "    </tr>\n",
       "  </thead>\n",
       "  <tbody>\n",
       "    <tr>\n",
       "      <th>0</th>\n",
       "      <td>892177421306343426</td>\n",
       "      <td>33819</td>\n",
       "      <td>6514</td>\n",
       "      <td>2017-08-01 00:17:27</td>\n",
       "      <td>This is Tilly. She's just checking pup on you....</td>\n",
       "      <td>https://twitter.com/dog_rates/status/892177421...</td>\n",
       "      <td>13.0</td>\n",
       "      <td>10</td>\n",
       "      <td>Tilly</td>\n",
       "      <td>False</td>\n",
       "      <td>False</td>\n",
       "      <td>False</td>\n",
       "      <td>False</td>\n",
       "      <td>https://pbs.twimg.com/media/DGGmoV4XsAAUL6n.jpg</td>\n",
       "      <td>1</td>\n",
       "      <td>Chihuahua</td>\n",
       "    </tr>\n",
       "    <tr>\n",
       "      <th>1</th>\n",
       "      <td>891815181378084864</td>\n",
       "      <td>25461</td>\n",
       "      <td>4328</td>\n",
       "      <td>2017-07-31 00:18:03</td>\n",
       "      <td>This is Archie. He is a rare Norwegian Pouncin...</td>\n",
       "      <td>https://twitter.com/dog_rates/status/891815181...</td>\n",
       "      <td>12.0</td>\n",
       "      <td>10</td>\n",
       "      <td>Archie</td>\n",
       "      <td>False</td>\n",
       "      <td>False</td>\n",
       "      <td>False</td>\n",
       "      <td>False</td>\n",
       "      <td>https://pbs.twimg.com/media/DGBdLU1WsAANxJ9.jpg</td>\n",
       "      <td>1</td>\n",
       "      <td>Chihuahua</td>\n",
       "    </tr>\n",
       "    <tr>\n",
       "      <th>2</th>\n",
       "      <td>891689557279858688</td>\n",
       "      <td>42908</td>\n",
       "      <td>8964</td>\n",
       "      <td>2017-07-30 15:58:51</td>\n",
       "      <td>This is Darla. She commenced a snooze mid meal...</td>\n",
       "      <td>https://twitter.com/dog_rates/status/891689557...</td>\n",
       "      <td>13.0</td>\n",
       "      <td>10</td>\n",
       "      <td>Darla</td>\n",
       "      <td>False</td>\n",
       "      <td>False</td>\n",
       "      <td>False</td>\n",
       "      <td>False</td>\n",
       "      <td>https://pbs.twimg.com/media/DF_q7IAWsAEuuN8.jpg</td>\n",
       "      <td>1</td>\n",
       "      <td>Labrador_retriever</td>\n",
       "    </tr>\n",
       "    <tr>\n",
       "      <th>3</th>\n",
       "      <td>891327558926688256</td>\n",
       "      <td>41048</td>\n",
       "      <td>9774</td>\n",
       "      <td>2017-07-29 16:00:24</td>\n",
       "      <td>This is Franklin. He would like you to stop ca...</td>\n",
       "      <td>https://twitter.com/dog_rates/status/891327558...</td>\n",
       "      <td>12.0</td>\n",
       "      <td>10</td>\n",
       "      <td>Franklin</td>\n",
       "      <td>False</td>\n",
       "      <td>False</td>\n",
       "      <td>False</td>\n",
       "      <td>False</td>\n",
       "      <td>https://pbs.twimg.com/media/DF6hr6BUMAAzZgT.jpg</td>\n",
       "      <td>2</td>\n",
       "      <td>Basset</td>\n",
       "    </tr>\n",
       "    <tr>\n",
       "      <th>4</th>\n",
       "      <td>891087950875897856</td>\n",
       "      <td>20562</td>\n",
       "      <td>3261</td>\n",
       "      <td>2017-07-29 00:08:17</td>\n",
       "      <td>Here we have a majestic great white breaching ...</td>\n",
       "      <td>https://twitter.com/dog_rates/status/891087950...</td>\n",
       "      <td>13.0</td>\n",
       "      <td>10</td>\n",
       "      <td>None</td>\n",
       "      <td>False</td>\n",
       "      <td>False</td>\n",
       "      <td>False</td>\n",
       "      <td>False</td>\n",
       "      <td>https://pbs.twimg.com/media/DF3HwyEWsAABqE6.jpg</td>\n",
       "      <td>1</td>\n",
       "      <td>Chesapeake_bay_retriever</td>\n",
       "    </tr>\n",
       "    <tr>\n",
       "      <th>...</th>\n",
       "      <td>...</td>\n",
       "      <td>...</td>\n",
       "      <td>...</td>\n",
       "      <td>...</td>\n",
       "      <td>...</td>\n",
       "      <td>...</td>\n",
       "      <td>...</td>\n",
       "      <td>...</td>\n",
       "      <td>...</td>\n",
       "      <td>...</td>\n",
       "      <td>...</td>\n",
       "      <td>...</td>\n",
       "      <td>...</td>\n",
       "      <td>...</td>\n",
       "      <td>...</td>\n",
       "      <td>...</td>\n",
       "    </tr>\n",
       "    <tr>\n",
       "      <th>1664</th>\n",
       "      <td>666049248165822465</td>\n",
       "      <td>111</td>\n",
       "      <td>41</td>\n",
       "      <td>2015-11-16 00:24:50</td>\n",
       "      <td>Here we have a 1949 1st generation vulpix. Enj...</td>\n",
       "      <td>https://twitter.com/dog_rates/status/666049248...</td>\n",
       "      <td>5.0</td>\n",
       "      <td>10</td>\n",
       "      <td>None</td>\n",
       "      <td>False</td>\n",
       "      <td>False</td>\n",
       "      <td>False</td>\n",
       "      <td>False</td>\n",
       "      <td>https://pbs.twimg.com/media/CT5IQmsXIAAKY4A.jpg</td>\n",
       "      <td>1</td>\n",
       "      <td>Miniature_pinscher</td>\n",
       "    </tr>\n",
       "    <tr>\n",
       "      <th>1665</th>\n",
       "      <td>666044226329800704</td>\n",
       "      <td>311</td>\n",
       "      <td>147</td>\n",
       "      <td>2015-11-16 00:04:52</td>\n",
       "      <td>This is a purebred Piers Morgan. Loves to Netf...</td>\n",
       "      <td>https://twitter.com/dog_rates/status/666044226...</td>\n",
       "      <td>6.0</td>\n",
       "      <td>10</td>\n",
       "      <td>None</td>\n",
       "      <td>False</td>\n",
       "      <td>False</td>\n",
       "      <td>False</td>\n",
       "      <td>False</td>\n",
       "      <td>https://pbs.twimg.com/media/CT5Dr8HUEAA-lEu.jpg</td>\n",
       "      <td>1</td>\n",
       "      <td>Rhodesian_ridgeback</td>\n",
       "    </tr>\n",
       "    <tr>\n",
       "      <th>1666</th>\n",
       "      <td>666033412701032449</td>\n",
       "      <td>128</td>\n",
       "      <td>47</td>\n",
       "      <td>2015-11-15 23:21:54</td>\n",
       "      <td>Here is a very happy pup. Big fan of well-main...</td>\n",
       "      <td>https://twitter.com/dog_rates/status/666033412...</td>\n",
       "      <td>9.0</td>\n",
       "      <td>10</td>\n",
       "      <td>None</td>\n",
       "      <td>False</td>\n",
       "      <td>False</td>\n",
       "      <td>False</td>\n",
       "      <td>False</td>\n",
       "      <td>https://pbs.twimg.com/media/CT4521TWwAEvMyu.jpg</td>\n",
       "      <td>1</td>\n",
       "      <td>German_shepherd</td>\n",
       "    </tr>\n",
       "    <tr>\n",
       "      <th>1667</th>\n",
       "      <td>666029285002620928</td>\n",
       "      <td>132</td>\n",
       "      <td>48</td>\n",
       "      <td>2015-11-15 23:05:30</td>\n",
       "      <td>This is a western brown Mitsubishi terrier. Up...</td>\n",
       "      <td>https://twitter.com/dog_rates/status/666029285...</td>\n",
       "      <td>7.0</td>\n",
       "      <td>10</td>\n",
       "      <td>None</td>\n",
       "      <td>False</td>\n",
       "      <td>False</td>\n",
       "      <td>False</td>\n",
       "      <td>False</td>\n",
       "      <td>https://pbs.twimg.com/media/CT42GRgUYAA5iDo.jpg</td>\n",
       "      <td>1</td>\n",
       "      <td>Redbone</td>\n",
       "    </tr>\n",
       "    <tr>\n",
       "      <th>1668</th>\n",
       "      <td>666020888022790149</td>\n",
       "      <td>2535</td>\n",
       "      <td>532</td>\n",
       "      <td>2015-11-15 22:32:08</td>\n",
       "      <td>Here we have a Japanese Irish Setter. Lost eye...</td>\n",
       "      <td>https://twitter.com/dog_rates/status/666020888...</td>\n",
       "      <td>8.0</td>\n",
       "      <td>10</td>\n",
       "      <td>None</td>\n",
       "      <td>False</td>\n",
       "      <td>False</td>\n",
       "      <td>False</td>\n",
       "      <td>False</td>\n",
       "      <td>https://pbs.twimg.com/media/CT4udn0WwAA0aMy.jpg</td>\n",
       "      <td>1</td>\n",
       "      <td>Welsh_springer_spaniel</td>\n",
       "    </tr>\n",
       "  </tbody>\n",
       "</table>\n",
       "<p>1669 rows × 16 columns</p>\n",
       "</div>"
      ],
      "text/plain": [
       "                tweet_id  favorites  retweets           timestamp  \\\n",
       "0     892177421306343426      33819      6514 2017-08-01 00:17:27   \n",
       "1     891815181378084864      25461      4328 2017-07-31 00:18:03   \n",
       "2     891689557279858688      42908      8964 2017-07-30 15:58:51   \n",
       "3     891327558926688256      41048      9774 2017-07-29 16:00:24   \n",
       "4     891087950875897856      20562      3261 2017-07-29 00:08:17   \n",
       "...                  ...        ...       ...                 ...   \n",
       "1664  666049248165822465        111        41 2015-11-16 00:24:50   \n",
       "1665  666044226329800704        311       147 2015-11-16 00:04:52   \n",
       "1666  666033412701032449        128        47 2015-11-15 23:21:54   \n",
       "1667  666029285002620928        132        48 2015-11-15 23:05:30   \n",
       "1668  666020888022790149       2535       532 2015-11-15 22:32:08   \n",
       "\n",
       "                                                   text  \\\n",
       "0     This is Tilly. She's just checking pup on you....   \n",
       "1     This is Archie. He is a rare Norwegian Pouncin...   \n",
       "2     This is Darla. She commenced a snooze mid meal...   \n",
       "3     This is Franklin. He would like you to stop ca...   \n",
       "4     Here we have a majestic great white breaching ...   \n",
       "...                                                 ...   \n",
       "1664  Here we have a 1949 1st generation vulpix. Enj...   \n",
       "1665  This is a purebred Piers Morgan. Loves to Netf...   \n",
       "1666  Here is a very happy pup. Big fan of well-main...   \n",
       "1667  This is a western brown Mitsubishi terrier. Up...   \n",
       "1668  Here we have a Japanese Irish Setter. Lost eye...   \n",
       "\n",
       "                                          expanded_urls  rating_numerator  \\\n",
       "0     https://twitter.com/dog_rates/status/892177421...              13.0   \n",
       "1     https://twitter.com/dog_rates/status/891815181...              12.0   \n",
       "2     https://twitter.com/dog_rates/status/891689557...              13.0   \n",
       "3     https://twitter.com/dog_rates/status/891327558...              12.0   \n",
       "4     https://twitter.com/dog_rates/status/891087950...              13.0   \n",
       "...                                                 ...               ...   \n",
       "1664  https://twitter.com/dog_rates/status/666049248...               5.0   \n",
       "1665  https://twitter.com/dog_rates/status/666044226...               6.0   \n",
       "1666  https://twitter.com/dog_rates/status/666033412...               9.0   \n",
       "1667  https://twitter.com/dog_rates/status/666029285...               7.0   \n",
       "1668  https://twitter.com/dog_rates/status/666020888...               8.0   \n",
       "\n",
       "      rating_denominator      name  doggo  floofer  pupper  puppo  \\\n",
       "0                     10     Tilly  False    False   False  False   \n",
       "1                     10    Archie  False    False   False  False   \n",
       "2                     10     Darla  False    False   False  False   \n",
       "3                     10  Franklin  False    False   False  False   \n",
       "4                     10      None  False    False   False  False   \n",
       "...                  ...       ...    ...      ...     ...    ...   \n",
       "1664                  10      None  False    False   False  False   \n",
       "1665                  10      None  False    False   False  False   \n",
       "1666                  10      None  False    False   False  False   \n",
       "1667                  10      None  False    False   False  False   \n",
       "1668                  10      None  False    False   False  False   \n",
       "\n",
       "                                              jpg_url  img_num  \\\n",
       "0     https://pbs.twimg.com/media/DGGmoV4XsAAUL6n.jpg        1   \n",
       "1     https://pbs.twimg.com/media/DGBdLU1WsAANxJ9.jpg        1   \n",
       "2     https://pbs.twimg.com/media/DF_q7IAWsAEuuN8.jpg        1   \n",
       "3     https://pbs.twimg.com/media/DF6hr6BUMAAzZgT.jpg        2   \n",
       "4     https://pbs.twimg.com/media/DF3HwyEWsAABqE6.jpg        1   \n",
       "...                                               ...      ...   \n",
       "1664  https://pbs.twimg.com/media/CT5IQmsXIAAKY4A.jpg        1   \n",
       "1665  https://pbs.twimg.com/media/CT5Dr8HUEAA-lEu.jpg        1   \n",
       "1666  https://pbs.twimg.com/media/CT4521TWwAEvMyu.jpg        1   \n",
       "1667  https://pbs.twimg.com/media/CT42GRgUYAA5iDo.jpg        1   \n",
       "1668  https://pbs.twimg.com/media/CT4udn0WwAA0aMy.jpg        1   \n",
       "\n",
       "                         breed  \n",
       "0                    Chihuahua  \n",
       "1                    Chihuahua  \n",
       "2           Labrador_retriever  \n",
       "3                       Basset  \n",
       "4     Chesapeake_bay_retriever  \n",
       "...                        ...  \n",
       "1664        Miniature_pinscher  \n",
       "1665       Rhodesian_ridgeback  \n",
       "1666           German_shepherd  \n",
       "1667                   Redbone  \n",
       "1668    Welsh_springer_spaniel  \n",
       "\n",
       "[1669 rows x 16 columns]"
      ]
     },
     "execution_count": 895,
     "metadata": {},
     "output_type": "execute_result"
    }
   ],
   "source": [
    "# All clean!\n",
    "df_clean"
   ]
  },
  {
   "cell_type": "code",
   "execution_count": 896,
   "metadata": {},
   "outputs": [],
   "source": [
    "df_clean.to_csv('WeRateDogs_clean.csv', index=False)"
   ]
  },
  {
   "cell_type": "markdown",
   "metadata": {},
   "source": [
    "### Analysis and Visualizations\n",
    "\n",
    "For this I will ask four questions of the data:\n",
    "- Is there any shift over time in number of tweets &mdash; is WeRateDogs getting more or less popular in this time?\n",
    "- What are the most common breeds? How are they rated &mdash; do certain breeds fare better in the rating system?\n",
    "- Do tweets with higher ratings get retweeted or marked as favorites more often?\n",
    "- What are the most common dog names? Are certain names associated with higher ratings?"
   ]
  },
  {
   "cell_type": "markdown",
   "metadata": {},
   "source": [
    "The first preliminary question I had was: what is the most retweeted or most favorited tweet/dog. That is easy to find out:"
   ]
  },
  {
   "cell_type": "code",
   "execution_count": 897,
   "metadata": {},
   "outputs": [
    {
     "data": {
      "text/plain": [
       "(tweet_id                                             822872901745569793\n",
       " favorites                                                        132810\n",
       " retweets                                                          48265\n",
       " timestamp                                           2017-01-21 18:26:02\n",
       " text                  Here's a super supportive puppo participating ...\n",
       " expanded_urls         https://twitter.com/dog_rates/status/822872901...\n",
       " rating_numerator                                                     13\n",
       " rating_denominator                                                   10\n",
       " name                                                               None\n",
       " doggo                                                             False\n",
       " floofer                                                           False\n",
       " pupper                                                            False\n",
       " puppo                                                              True\n",
       " jpg_url                 https://pbs.twimg.com/media/C2tugXLXgAArJO4.jpg\n",
       " img_num                                                               1\n",
       " breed                                                  Lakeland_terrier\n",
       " Name: 278, dtype: object,\n",
       " tweet_id                                             744234799360020481\n",
       " favorites                                                        131075\n",
       " retweets                                                          79515\n",
       " timestamp                                           2016-06-18 18:26:18\n",
       " text                  Here's a doggo realizing you can stand in a po...\n",
       " expanded_urls         https://twitter.com/dog_rates/status/744234799...\n",
       " rating_numerator                                                     13\n",
       " rating_denominator                                                   10\n",
       " name                                                               None\n",
       " doggo                                                              True\n",
       " floofer                                                           False\n",
       " pupper                                                            False\n",
       " puppo                                                             False\n",
       " jpg_url               https://pbs.twimg.com/ext_tw_video_thumb/74423...\n",
       " img_num                                                               1\n",
       " breed                                                Labrador_retriever\n",
       " Name: 688, dtype: object)"
      ]
     },
     "execution_count": 897,
     "metadata": {},
     "output_type": "execute_result"
    }
   ],
   "source": [
    "df_clean.loc[df_clean['favorites'].idxmax()], df_clean.loc[df_clean['retweets'].idxmax()]"
   ]
  },
  {
   "cell_type": "markdown",
   "metadata": {},
   "source": [
    "#### Is there any shift over time in number of tweets &mdash; is WeRateDogs getting more or less popular in this time?\n",
    "\n",
    "The code below creates a dataframe grouped by week using `resample()` to look the number of tweets per week and the number of retweets per week, visualized in two graphs. As we can see, by the metric of number of unqiue tweets, it appears that WeRateDogs experienced a spike in popularity just after it was created in November 2015. However, by the metric of number of retweets, although there is a spike at the beginning, the number of retweets is more level. Fitting a quick linear regression shows it is quite likely the number of retweets is increasing slightly with time."
   ]
  },
  {
   "cell_type": "code",
   "execution_count": 898,
   "metadata": {},
   "outputs": [],
   "source": [
    "df_clean.index = df_clean.timestamp"
   ]
  },
  {
   "cell_type": "code",
   "execution_count": 899,
   "metadata": {},
   "outputs": [],
   "source": [
    "by_week = df_clean.resample('W').tweet_id.count().to_frame()"
   ]
  },
  {
   "cell_type": "code",
   "execution_count": 900,
   "metadata": {},
   "outputs": [],
   "source": [
    "by_week['retweets'] = df_clean.resample('W').retweets.sum()"
   ]
  },
  {
   "cell_type": "code",
   "execution_count": 901,
   "metadata": {},
   "outputs": [],
   "source": [
    "by_week['week'] = by_week.index"
   ]
  },
  {
   "cell_type": "code",
   "execution_count": 902,
   "metadata": {},
   "outputs": [
    {
     "data": {
      "image/png": "[encoded data removed]",
      "text/plain": [
       "<Figure size 864x576 with 1 Axes>"
      ]
     },
     "metadata": {},
     "output_type": "display_data"
    }
   ],
   "source": [
    "sns.set()\n",
    "plt.subplots(figsize=(12, 8))\n",
    "plt.plot(by_week['week'], by_week['tweet_id'], 'r.-')\n",
    "plt.title('WeRateDogs number of tweets per week, 2015-217',  fontsize=14, fontweight='bold')\n",
    "plt.xlabel('week')\n",
    "plt.ylabel('number of unique tweets');"
   ]
  },
  {
   "cell_type": "code",
   "execution_count": 903,
   "metadata": {},
   "outputs": [
    {
     "data": {
      "image/png": "[encoded data removed]",
      "text/plain": [
       "<Figure size 864x576 with 1 Axes>"
      ]
     },
     "metadata": {},
     "output_type": "display_data"
    }
   ],
   "source": [
    "sns.set()\n",
    "by_week['no_weeks'] = np.arange(len(by_week))\n",
    "plt.subplots(figsize=(12, 8))\n",
    "plt.plot(by_week['no_weeks'], by_week['retweets'], 'b.--')\n",
    "plt.title('WeRateDogs number of retweets per week, 2015-217', fontsize=14, fontweight='bold')\n",
    "sns.regplot(x=\"no_weeks\", y=\"retweets\", data=by_week)\n",
    "plt.xlabel('number of weeks from Nov 2015', fontsize=14)\n",
    "plt.ylabel('number of retweets', fontsize=14);"
   ]
  },
  {
   "cell_type": "markdown",
   "metadata": {},
   "source": [
    "#### What are the most common breeds?\n",
    "\n",
    "For this answer, first we can just do a value count of breeds; this is visualized in the first bar chart below, \"WeRateDogs number of images by breed\". The chart displays the top 30 out of 113 breeds identified by the algorithm. Given the low accuracy of some of the predictions, these need to be taken with a grain of salt, but the overall picture for the top dogs is clean. The top 5 are:"
   ]
  },
  {
   "cell_type": "code",
   "execution_count": 904,
   "metadata": {},
   "outputs": [
    {
     "data": {
      "text/plain": [
       "Golden_retriever      154\n",
       "Labrador_retriever    105\n",
       "Pembroke               95\n",
       "Chihuahua              90\n",
       "Pug                    62\n",
       "Name: breed, dtype: int64"
      ]
     },
     "execution_count": 904,
     "metadata": {},
     "output_type": "execute_result"
    }
   ],
   "source": [
    "df_clean['breed'].value_counts()[:5]"
   ]
  },
  {
   "cell_type": "code",
   "execution_count": 905,
   "metadata": {},
   "outputs": [
    {
     "data": {
      "image/png": "[encoded data removed]",
      "text/plain": [
       "<Figure size 1008x576 with 1 Axes>"
      ]
     },
     "metadata": {},
     "output_type": "display_data"
    }
   ],
   "source": [
    "df_clean['breed'].value_counts()[:30].plot(kind='bar', figsize=(14,8))\n",
    "plt.title(\"WeRateDogs number of images by breed (top 30)\", fontsize=14, fontweight='bold')\n",
    "plt.xticks(\n",
    "    rotation=45,\n",
    "    horizontalalignment='right',\n",
    "    fontweight='light',\n",
    "    fontsize='medium',\n",
    ")\n",
    "plt.ylabel('number of tweets with this breed', fontsize=14)\n",
    "plt.xlabel('breed', fontsize=14);\n"
   ]
  },
  {
   "cell_type": "markdown",
   "metadata": {},
   "source": [
    "####  How are they rated &mdash; do certain breeds fare better in the rating system?\n",
    "\n",
    "While the most common dogs in the American pet inventory (golden retrievers and labradors in particular &mdash; lists of the most common breeds are available [here](https://www.akc.org/most-popular-breeds/)) are well represented in WeRateDog's tweets, the breeds that receive the highest ratings are more exotic. Here are the top ten highest ranked, and the visualizalion below shows the top 30."
   ]
  },
  {
   "cell_type": "code",
   "execution_count": 906,
   "metadata": {},
   "outputs": [
    {
     "data": {
      "text/html": [
       "<div>\n",
       "<style scoped>\n",
       "    .dataframe tbody tr th:only-of-type {\n",
       "        vertical-align: middle;\n",
       "    }\n",
       "\n",
       "    .dataframe tbody tr th {\n",
       "        vertical-align: top;\n",
       "    }\n",
       "\n",
       "    .dataframe thead th {\n",
       "        text-align: right;\n",
       "    }\n",
       "</style>\n",
       "<table border=\"1\" class=\"dataframe\">\n",
       "  <thead>\n",
       "    <tr style=\"text-align: right;\">\n",
       "      <th></th>\n",
       "      <th>rating_numerator</th>\n",
       "    </tr>\n",
       "    <tr>\n",
       "      <th>breed</th>\n",
       "      <th></th>\n",
       "    </tr>\n",
       "  </thead>\n",
       "  <tbody>\n",
       "    <tr>\n",
       "      <th>Bouvier_des_flandres</th>\n",
       "      <td>13.000000</td>\n",
       "    </tr>\n",
       "    <tr>\n",
       "      <th>Saluki</th>\n",
       "      <td>12.500000</td>\n",
       "    </tr>\n",
       "    <tr>\n",
       "      <th>Briard</th>\n",
       "      <td>12.333333</td>\n",
       "    </tr>\n",
       "    <tr>\n",
       "      <th>Tibetan_mastiff</th>\n",
       "      <td>12.250000</td>\n",
       "    </tr>\n",
       "    <tr>\n",
       "      <th>Border_terrier</th>\n",
       "      <td>12.142857</td>\n",
       "    </tr>\n",
       "    <tr>\n",
       "      <th>Standard_schnauzer</th>\n",
       "      <td>12.000000</td>\n",
       "    </tr>\n",
       "    <tr>\n",
       "      <th>Silky_terrier</th>\n",
       "      <td>12.000000</td>\n",
       "    </tr>\n",
       "    <tr>\n",
       "      <th>Irish_setter</th>\n",
       "      <td>11.750000</td>\n",
       "    </tr>\n",
       "    <tr>\n",
       "      <th>Gordon_setter</th>\n",
       "      <td>11.750000</td>\n",
       "    </tr>\n",
       "    <tr>\n",
       "      <th>Samoyed</th>\n",
       "      <td>11.690476</td>\n",
       "    </tr>\n",
       "  </tbody>\n",
       "</table>\n",
       "</div>"
      ],
      "text/plain": [
       "                      rating_numerator\n",
       "breed                                 \n",
       "Bouvier_des_flandres         13.000000\n",
       "Saluki                       12.500000\n",
       "Briard                       12.333333\n",
       "Tibetan_mastiff              12.250000\n",
       "Border_terrier               12.142857\n",
       "Standard_schnauzer           12.000000\n",
       "Silky_terrier                12.000000\n",
       "Irish_setter                 11.750000\n",
       "Gordon_setter                11.750000\n",
       "Samoyed                      11.690476"
      ]
     },
     "execution_count": 906,
     "metadata": {},
     "output_type": "execute_result"
    }
   ],
   "source": [
    "rank_by_breed = df_clean.groupby(['breed'])['rating_numerator'].mean().sort_values(ascending=False).to_frame()\n",
    "rank_by_breed[:10]"
   ]
  },
  {
   "cell_type": "code",
   "execution_count": 907,
   "metadata": {},
   "outputs": [
    {
     "data": {
      "image/png": "[encoded data removed]",
      "text/plain": [
       "<Figure size 1008x576 with 1 Axes>"
      ]
     },
     "metadata": {},
     "output_type": "display_data"
    }
   ],
   "source": [
    "rank_by_breed[:30].plot(kind='bar', figsize=(14,8), ylim=(10,13.5))\n",
    "plt.title('WeRateDogs breeds by rating (top 30)', fontsize=14, fontweight='bold')\n",
    "plt.ylabel('Mean rating', fontsize=14)\n",
    "plt.xlabel('breed', fontsize=14)\n",
    "plt.xticks(\n",
    "    rotation=45,\n",
    "    horizontalalignment='right',\n",
    "    fontweight='light',\n",
    "    fontsize='medium',\n",
    ");\n"
   ]
  },
  {
   "cell_type": "markdown",
   "metadata": {},
   "source": [
    "#### Do tweets with higher ratings get retweeted or marked as favorites more often?\n"
   ]
  },
  {
   "cell_type": "markdown",
   "metadata": {},
   "source": [
    "The short answer to this is yes, as is very clearly demonstrated in the graph below. However, in order to produce a useful number we have to divide the number of retweets by the number of original tweets. It is imporant to note, as we can see in the by_rating dataframe below, that very few people give ratings of 9, 12, or 13. In particular, if we disregard the 9, the trends towards more retweets of higher-rated dogs is very clear."
   ]
  },
  {
   "cell_type": "code",
   "execution_count": 908,
   "metadata": {},
   "outputs": [],
   "source": [
    "by_rating = df_clean.groupby('rating_numerator', as_index=False)['retweets'].sum()"
   ]
  },
  {
   "cell_type": "code",
   "execution_count": 909,
   "metadata": {},
   "outputs": [],
   "source": [
    "by_rating['tweet_id'] = df_clean.groupby('rating_numerator', as_index=False)['tweet_id'].count()['tweet_id']"
   ]
  },
  {
   "cell_type": "code",
   "execution_count": 910,
   "metadata": {},
   "outputs": [],
   "source": [
    "by_rating['proportion'] = by_rating.retweets / by_rating.tweet_id"
   ]
  },
  {
   "cell_type": "code",
   "execution_count": 911,
   "metadata": {},
   "outputs": [
    {
     "data": {
      "text/html": [
       "<div>\n",
       "<style scoped>\n",
       "    .dataframe tbody tr th:only-of-type {\n",
       "        vertical-align: middle;\n",
       "    }\n",
       "\n",
       "    .dataframe tbody tr th {\n",
       "        vertical-align: top;\n",
       "    }\n",
       "\n",
       "    .dataframe thead th {\n",
       "        text-align: right;\n",
       "    }\n",
       "</style>\n",
       "<table border=\"1\" class=\"dataframe\">\n",
       "  <thead>\n",
       "    <tr style=\"text-align: right;\">\n",
       "      <th></th>\n",
       "      <th>rating_numerator</th>\n",
       "      <th>retweets</th>\n",
       "      <th>tweet_id</th>\n",
       "      <th>proportion</th>\n",
       "    </tr>\n",
       "  </thead>\n",
       "  <tbody>\n",
       "    <tr>\n",
       "      <th>0</th>\n",
       "      <td>0.00</td>\n",
       "      <td>3443</td>\n",
       "      <td>1</td>\n",
       "      <td>3443.000000</td>\n",
       "    </tr>\n",
       "    <tr>\n",
       "      <th>1</th>\n",
       "      <td>2.00</td>\n",
       "      <td>3007</td>\n",
       "      <td>2</td>\n",
       "      <td>1503.500000</td>\n",
       "    </tr>\n",
       "    <tr>\n",
       "      <th>2</th>\n",
       "      <td>3.00</td>\n",
       "      <td>5432</td>\n",
       "      <td>5</td>\n",
       "      <td>1086.400000</td>\n",
       "    </tr>\n",
       "    <tr>\n",
       "      <th>3</th>\n",
       "      <td>4.00</td>\n",
       "      <td>7185</td>\n",
       "      <td>6</td>\n",
       "      <td>1197.500000</td>\n",
       "    </tr>\n",
       "    <tr>\n",
       "      <th>4</th>\n",
       "      <td>5.00</td>\n",
       "      <td>21269</td>\n",
       "      <td>14</td>\n",
       "      <td>1519.214286</td>\n",
       "    </tr>\n",
       "    <tr>\n",
       "      <th>5</th>\n",
       "      <td>6.00</td>\n",
       "      <td>18856</td>\n",
       "      <td>16</td>\n",
       "      <td>1178.500000</td>\n",
       "    </tr>\n",
       "    <tr>\n",
       "      <th>6</th>\n",
       "      <td>7.00</td>\n",
       "      <td>27267</td>\n",
       "      <td>31</td>\n",
       "      <td>879.580645</td>\n",
       "    </tr>\n",
       "    <tr>\n",
       "      <th>7</th>\n",
       "      <td>8.00</td>\n",
       "      <td>53573</td>\n",
       "      <td>68</td>\n",
       "      <td>787.838235</td>\n",
       "    </tr>\n",
       "    <tr>\n",
       "      <th>8</th>\n",
       "      <td>9.00</td>\n",
       "      <td>112224</td>\n",
       "      <td>132</td>\n",
       "      <td>850.181818</td>\n",
       "    </tr>\n",
       "    <tr>\n",
       "      <th>9</th>\n",
       "      <td>9.75</td>\n",
       "      <td>7069</td>\n",
       "      <td>1</td>\n",
       "      <td>7069.000000</td>\n",
       "    </tr>\n",
       "    <tr>\n",
       "      <th>10</th>\n",
       "      <td>10.00</td>\n",
       "      <td>527477</td>\n",
       "      <td>360</td>\n",
       "      <td>1465.213889</td>\n",
       "    </tr>\n",
       "    <tr>\n",
       "      <th>11</th>\n",
       "      <td>11.00</td>\n",
       "      <td>767151</td>\n",
       "      <td>356</td>\n",
       "      <td>2154.918539</td>\n",
       "    </tr>\n",
       "    <tr>\n",
       "      <th>12</th>\n",
       "      <td>11.26</td>\n",
       "      <td>542</td>\n",
       "      <td>1</td>\n",
       "      <td>542.000000</td>\n",
       "    </tr>\n",
       "    <tr>\n",
       "      <th>13</th>\n",
       "      <td>11.27</td>\n",
       "      <td>1885</td>\n",
       "      <td>1</td>\n",
       "      <td>1885.000000</td>\n",
       "    </tr>\n",
       "    <tr>\n",
       "      <th>14</th>\n",
       "      <td>12.00</td>\n",
       "      <td>1330753</td>\n",
       "      <td>423</td>\n",
       "      <td>3145.988180</td>\n",
       "    </tr>\n",
       "    <tr>\n",
       "      <th>15</th>\n",
       "      <td>13.00</td>\n",
       "      <td>1615656</td>\n",
       "      <td>229</td>\n",
       "      <td>7055.266376</td>\n",
       "    </tr>\n",
       "    <tr>\n",
       "      <th>16</th>\n",
       "      <td>14.00</td>\n",
       "      <td>203485</td>\n",
       "      <td>23</td>\n",
       "      <td>8847.173913</td>\n",
       "    </tr>\n",
       "  </tbody>\n",
       "</table>\n",
       "</div>"
      ],
      "text/plain": [
       "    rating_numerator  retweets  tweet_id   proportion\n",
       "0               0.00      3443         1  3443.000000\n",
       "1               2.00      3007         2  1503.500000\n",
       "2               3.00      5432         5  1086.400000\n",
       "3               4.00      7185         6  1197.500000\n",
       "4               5.00     21269        14  1519.214286\n",
       "5               6.00     18856        16  1178.500000\n",
       "6               7.00     27267        31   879.580645\n",
       "7               8.00     53573        68   787.838235\n",
       "8               9.00    112224       132   850.181818\n",
       "9               9.75      7069         1  7069.000000\n",
       "10             10.00    527477       360  1465.213889\n",
       "11             11.00    767151       356  2154.918539\n",
       "12             11.26       542         1   542.000000\n",
       "13             11.27      1885         1  1885.000000\n",
       "14             12.00   1330753       423  3145.988180\n",
       "15             13.00   1615656       229  7055.266376\n",
       "16             14.00    203485        23  8847.173913"
      ]
     },
     "execution_count": 911,
     "metadata": {},
     "output_type": "execute_result"
    }
   ],
   "source": [
    "by_rating"
   ]
  },
  {
   "cell_type": "code",
   "execution_count": 912,
   "metadata": {},
   "outputs": [
    {
     "data": {
      "text/plain": [
       "Text(0, 0.5, 'number of retweets')"
      ]
     },
     "execution_count": 912,
     "metadata": {},
     "output_type": "execute_result"
    },
    {
     "data": {
      "image/png": "[encoded data removed]",
      "text/plain": [
       "<Figure size 864x576 with 1 Axes>"
      ]
     },
     "metadata": {},
     "output_type": "display_data"
    }
   ],
   "source": [
    "sns.set()\n",
    "plt.subplots(figsize=(12, 8))\n",
    "plt.plot(by_rating['rating_numerator'], by_rating['proportion'], 'C1.-')\n",
    "plt.title('Number of retweets per original tweet by rating (out of ten)',  fontsize=14, fontweight='bold')\n",
    "plt.xlabel('numerator')\n",
    "plt.ylabel('number of retweets')"
   ]
  },
  {
   "cell_type": "markdown",
   "metadata": {},
   "source": [
    "#### What are the most common dog names? Are certain names associated with higher ratings?\n",
    "\n",
    "The answering the first question is trivial, and the table below show the twenty most popular dog names. With regard to ratings, a query of the top ten names show that they are all *hapax legomena*, so there is insufficient data to answer the second question. It seems unlikely looking at the shape of the data that there is any correlation."
   ]
  },
  {
   "cell_type": "code",
   "execution_count": 913,
   "metadata": {},
   "outputs": [
    {
     "data": {
      "text/plain": [
       "None       485\n",
       "Cooper      10\n",
       "Lucy        10\n",
       "Charlie     10\n",
       "Tucker       9\n",
       "Oliver       9\n",
       "Penny        8\n",
       "Daisy        7\n",
       "Sadie        7\n",
       "Winston      7\n",
       "Toby         6\n",
       "Koda         6\n",
       "Lola         6\n",
       "Jax          6\n",
       "Stanley      5\n",
       "Leo          5\n",
       "Rusty        5\n",
       "Bella        5\n",
       "Bo           5\n",
       "Oscar        5\n",
       "Name: name, dtype: int64"
      ]
     },
     "execution_count": 913,
     "metadata": {},
     "output_type": "execute_result"
    }
   ],
   "source": [
    "df_clean.name.value_counts()[:20]"
   ]
  },
  {
   "cell_type": "code",
   "execution_count": 914,
   "metadata": {},
   "outputs": [
    {
     "data": {
      "text/html": [
       "<div>\n",
       "<style scoped>\n",
       "    .dataframe tbody tr th:only-of-type {\n",
       "        vertical-align: middle;\n",
       "    }\n",
       "\n",
       "    .dataframe tbody tr th {\n",
       "        vertical-align: top;\n",
       "    }\n",
       "\n",
       "    .dataframe thead th {\n",
       "        text-align: right;\n",
       "    }\n",
       "</style>\n",
       "<table border=\"1\" class=\"dataframe\">\n",
       "  <thead>\n",
       "    <tr style=\"text-align: right;\">\n",
       "      <th></th>\n",
       "      <th>rating_numerator</th>\n",
       "    </tr>\n",
       "    <tr>\n",
       "      <th>name</th>\n",
       "      <th></th>\n",
       "    </tr>\n",
       "  </thead>\n",
       "  <tbody>\n",
       "    <tr>\n",
       "      <th>Smiley</th>\n",
       "      <td>14.0</td>\n",
       "    </tr>\n",
       "    <tr>\n",
       "      <th>Ollie</th>\n",
       "      <td>14.0</td>\n",
       "    </tr>\n",
       "    <tr>\n",
       "      <th>Sundance</th>\n",
       "      <td>14.0</td>\n",
       "    </tr>\n",
       "    <tr>\n",
       "      <th>Cermet</th>\n",
       "      <td>14.0</td>\n",
       "    </tr>\n",
       "    <tr>\n",
       "      <th>Emmy</th>\n",
       "      <td>14.0</td>\n",
       "    </tr>\n",
       "    <tr>\n",
       "      <th>Doobert</th>\n",
       "      <td>14.0</td>\n",
       "    </tr>\n",
       "    <tr>\n",
       "      <th>Kuyu</th>\n",
       "      <td>14.0</td>\n",
       "    </tr>\n",
       "    <tr>\n",
       "      <th>Zooey</th>\n",
       "      <td>13.0</td>\n",
       "    </tr>\n",
       "    <tr>\n",
       "      <th>Bronte</th>\n",
       "      <td>13.0</td>\n",
       "    </tr>\n",
       "    <tr>\n",
       "      <th>Bruno</th>\n",
       "      <td>13.0</td>\n",
       "    </tr>\n",
       "  </tbody>\n",
       "</table>\n",
       "</div>"
      ],
      "text/plain": [
       "          rating_numerator\n",
       "name                      \n",
       "Smiley                14.0\n",
       "Ollie                 14.0\n",
       "Sundance              14.0\n",
       "Cermet                14.0\n",
       "Emmy                  14.0\n",
       "Doobert               14.0\n",
       "Kuyu                  14.0\n",
       "Zooey                 13.0\n",
       "Bronte                13.0\n",
       "Bruno                 13.0"
      ]
     },
     "execution_count": 914,
     "metadata": {},
     "output_type": "execute_result"
    }
   ],
   "source": [
    "by_name = df_clean.groupby(['name'])['rating_numerator'].mean().sort_values(ascending=False).to_frame()\n",
    "by_name[:10]"
   ]
  },
  {
   "cell_type": "code",
   "execution_count": 915,
   "metadata": {},
   "outputs": [
    {
     "data": {
      "text/html": [
       "<div>\n",
       "<style scoped>\n",
       "    .dataframe tbody tr th:only-of-type {\n",
       "        vertical-align: middle;\n",
       "    }\n",
       "\n",
       "    .dataframe tbody tr th {\n",
       "        vertical-align: top;\n",
       "    }\n",
       "\n",
       "    .dataframe thead th {\n",
       "        text-align: right;\n",
       "    }\n",
       "</style>\n",
       "<table border=\"1\" class=\"dataframe\">\n",
       "  <thead>\n",
       "    <tr style=\"text-align: right;\">\n",
       "      <th></th>\n",
       "      <th>tweet_id</th>\n",
       "      <th>favorites</th>\n",
       "      <th>retweets</th>\n",
       "      <th>timestamp</th>\n",
       "      <th>text</th>\n",
       "      <th>expanded_urls</th>\n",
       "      <th>rating_numerator</th>\n",
       "      <th>rating_denominator</th>\n",
       "      <th>name</th>\n",
       "      <th>doggo</th>\n",
       "      <th>floofer</th>\n",
       "      <th>pupper</th>\n",
       "      <th>puppo</th>\n",
       "      <th>jpg_url</th>\n",
       "      <th>img_num</th>\n",
       "      <th>breed</th>\n",
       "    </tr>\n",
       "    <tr>\n",
       "      <th>timestamp</th>\n",
       "      <th></th>\n",
       "      <th></th>\n",
       "      <th></th>\n",
       "      <th></th>\n",
       "      <th></th>\n",
       "      <th></th>\n",
       "      <th></th>\n",
       "      <th></th>\n",
       "      <th></th>\n",
       "      <th></th>\n",
       "      <th></th>\n",
       "      <th></th>\n",
       "      <th></th>\n",
       "      <th></th>\n",
       "      <th></th>\n",
       "      <th></th>\n",
       "    </tr>\n",
       "  </thead>\n",
       "  <tbody>\n",
       "    <tr>\n",
       "      <th>2017-07-25 16:11:53</th>\n",
       "      <td>889880896479866881</td>\n",
       "      <td>28268</td>\n",
       "      <td>5156</td>\n",
       "      <td>2017-07-25 16:11:53</td>\n",
       "      <td>This is Bruno. He is a service shark. Only get...</td>\n",
       "      <td>https://twitter.com/dog_rates/status/889880896...</td>\n",
       "      <td>13.0</td>\n",
       "      <td>10</td>\n",
       "      <td>Bruno</td>\n",
       "      <td>False</td>\n",
       "      <td>False</td>\n",
       "      <td>False</td>\n",
       "      <td>False</td>\n",
       "      <td>https://pbs.twimg.com/media/DFl99B1WsAITKsg.jpg</td>\n",
       "      <td>1</td>\n",
       "      <td>French_bulldog</td>\n",
       "    </tr>\n",
       "  </tbody>\n",
       "</table>\n",
       "</div>"
      ],
      "text/plain": [
       "                               tweet_id  favorites  retweets  \\\n",
       "timestamp                                                      \n",
       "2017-07-25 16:11:53  889880896479866881      28268      5156   \n",
       "\n",
       "                              timestamp  \\\n",
       "timestamp                                 \n",
       "2017-07-25 16:11:53 2017-07-25 16:11:53   \n",
       "\n",
       "                                                                  text  \\\n",
       "timestamp                                                                \n",
       "2017-07-25 16:11:53  This is Bruno. He is a service shark. Only get...   \n",
       "\n",
       "                                                         expanded_urls  \\\n",
       "timestamp                                                                \n",
       "2017-07-25 16:11:53  https://twitter.com/dog_rates/status/889880896...   \n",
       "\n",
       "                     rating_numerator  rating_denominator   name  doggo  \\\n",
       "timestamp                                                                 \n",
       "2017-07-25 16:11:53              13.0                  10  Bruno  False   \n",
       "\n",
       "                     floofer  pupper  puppo  \\\n",
       "timestamp                                     \n",
       "2017-07-25 16:11:53    False   False  False   \n",
       "\n",
       "                                                             jpg_url  img_num  \\\n",
       "timestamp                                                                       \n",
       "2017-07-25 16:11:53  https://pbs.twimg.com/media/DFl99B1WsAITKsg.jpg        1   \n",
       "\n",
       "                              breed  \n",
       "timestamp                            \n",
       "2017-07-25 16:11:53  French_bulldog  "
      ]
     },
     "execution_count": 915,
     "metadata": {},
     "output_type": "execute_result"
    }
   ],
   "source": [
    "df_clean.query('name == \"Bruno\"')"
   ]
  }
 ],
 "metadata": {
  "kernelspec": {
   "display_name": "Python 3",
   "language": "python",
   "name": "python3"
  },
  "language_info": {
   "codemirror_mode": {
    "name": "ipython",
    "version": 3
   },
   "file_extension": ".py",
   "mimetype": "text/x-python",
   "name": "python",
   "nbconvert_exporter": "python",
   "pygments_lexer": "ipython3",
   "version": "3.7.6"
  }
 },
 "nbformat": 4,
 "nbformat_minor": 2
}
